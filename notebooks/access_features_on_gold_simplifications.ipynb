{
 "cells": [
  {
   "cell_type": "markdown",
   "metadata": {},
   "source": [
    "# ACCESS features on simplification data sets\n",
    "\n",
    "Computes ACCESS feature values for all src-tgt pairs in crowdsourced data sets.\n",
    "- ASSET: uses a diverse range of rewriting operations (more natural, open simplifications)\n",
    "- Turk: lexical simplification\n",
    "- HSplit: syntactic simplification\n"
   ]
  },
  {
   "cell_type": "code",
   "execution_count": 1,
   "metadata": {},
   "outputs": [],
   "source": [
    "import sys\n",
    "sys.path.append(\"../\") # go to parent dir\n",
    "\n",
    "from muss_utils import get_features\n",
    "import numpy as np\n",
    "import pandas as pd\n",
    "import math\n",
    "from tqdm import tqdm\n",
    "import matplotlib.pyplot as plt\n",
    "\n",
    "from easse.sari import corpus_sari\n",
    "from easse.fkgl import corpus_fkgl\n",
    "from easse.bertscore import corpus_bertscore\n",
    "\n",
    "# Create new `pandas` methods which use `tqdm` progress\n",
    "# (can use tqdm_gui, optional kwargs, etc.)\n",
    "tqdm.pandas()"
   ]
  },
  {
   "cell_type": "code",
   "execution_count": 30,
   "metadata": {},
   "outputs": [
    {
     "data": {
      "text/html": [
       "<div>\n",
       "<style scoped>\n",
       "    .dataframe tbody tr th:only-of-type {\n",
       "        vertical-align: middle;\n",
       "    }\n",
       "\n",
       "    .dataframe tbody tr th {\n",
       "        vertical-align: top;\n",
       "    }\n",
       "\n",
       "    .dataframe thead th {\n",
       "        text-align: right;\n",
       "    }\n",
       "</style>\n",
       "<table border=\"1\" class=\"dataframe\">\n",
       "  <thead>\n",
       "    <tr style=\"text-align: right;\">\n",
       "      <th></th>\n",
       "      <th>src_text</th>\n",
       "      <th>tgt_text_0</th>\n",
       "      <th>tgt_text_1</th>\n",
       "      <th>tgt_text_2</th>\n",
       "      <th>tgt_text_3</th>\n",
       "      <th>tgt_text_4</th>\n",
       "      <th>tgt_text_5</th>\n",
       "      <th>tgt_text_6</th>\n",
       "      <th>tgt_text_7</th>\n",
       "      <th>tgt_text_8</th>\n",
       "      <th>tgt_text_9</th>\n",
       "      <th>src_id</th>\n",
       "    </tr>\n",
       "  </thead>\n",
       "  <tbody>\n",
       "    <tr>\n",
       "      <th>0</th>\n",
       "      <td>Adjacent counties are Marin (to the south), Me...</td>\n",
       "      <td>countries next to it are Marin, Mendocino, Lak...</td>\n",
       "      <td>Nearby counties are Marin, Mendocino, Lake, Na...</td>\n",
       "      <td>Adjacent counties are Marin, Mendocino, Lake, ...</td>\n",
       "      <td>Neighboring counties are Marin, Mendocino, Lak...</td>\n",
       "      <td>Adjacent counties are Marin (south), Mendocino...</td>\n",
       "      <td>Counties next to it are Marin (to the south), ...</td>\n",
       "      <td>Marin, Mendocino, Lake, Napa, Solano, and Cont...</td>\n",
       "      <td>Adjacent counties are Marin, Mendocino, Lake, ...</td>\n",
       "      <td>Counties next door are Marin (south), Mendocin...</td>\n",
       "      <td>Nearby counties are Marin (to the south), Mend...</td>\n",
       "      <td>0</td>\n",
       "    </tr>\n",
       "    <tr>\n",
       "      <th>1</th>\n",
       "      <td>A Georgian inscription around the drum attests...</td>\n",
       "      <td>A writing around the drum confirms his name.</td>\n",
       "      <td>A Georgian writing on the drum is his name.</td>\n",
       "      <td>An inscription around the drum has his name.</td>\n",
       "      <td>His name is on the drum. It's a Georgian inscr...</td>\n",
       "      <td>A Georgian inscription around the drum confirm...</td>\n",
       "      <td>A Georgian writing around the drum says his name.</td>\n",
       "      <td>There is Georgian writing around the drum that...</td>\n",
       "      <td>An inscription around the drum is evidence of ...</td>\n",
       "      <td>Georgian writing around the drum verifies his ...</td>\n",
       "      <td>Its name is referred by a Georgian inscription...</td>\n",
       "      <td>1</td>\n",
       "    </tr>\n",
       "    <tr>\n",
       "      <th>2</th>\n",
       "      <td>They would later return to the revived series ...</td>\n",
       "      <td>They would return to the new series in the 200...</td>\n",
       "      <td>They returned to the series in the 2008 Christ...</td>\n",
       "      <td>They later returned to the revived series in t...</td>\n",
       "      <td>They brought back the series in a Christmas sp...</td>\n",
       "      <td>They would return to the series in the 2008 Ch...</td>\n",
       "      <td>They would later return to the revived series ...</td>\n",
       "      <td>They later showed up in the 2008 Christmas Spe...</td>\n",
       "      <td>They returned to the series in the 2008 Christ...</td>\n",
       "      <td>The returned in the 2008 Christmas Special, \"T...</td>\n",
       "      <td>Later, they would return to the revived series...</td>\n",
       "      <td>2</td>\n",
       "    </tr>\n",
       "  </tbody>\n",
       "</table>\n",
       "</div>"
      ],
      "text/plain": [
       "                                            src_text  \\\n",
       "0  Adjacent counties are Marin (to the south), Me...   \n",
       "1  A Georgian inscription around the drum attests...   \n",
       "2  They would later return to the revived series ...   \n",
       "\n",
       "                                          tgt_text_0  \\\n",
       "0  countries next to it are Marin, Mendocino, Lak...   \n",
       "1       A writing around the drum confirms his name.   \n",
       "2  They would return to the new series in the 200...   \n",
       "\n",
       "                                          tgt_text_1  \\\n",
       "0  Nearby counties are Marin, Mendocino, Lake, Na...   \n",
       "1        A Georgian writing on the drum is his name.   \n",
       "2  They returned to the series in the 2008 Christ...   \n",
       "\n",
       "                                          tgt_text_2  \\\n",
       "0  Adjacent counties are Marin, Mendocino, Lake, ...   \n",
       "1       An inscription around the drum has his name.   \n",
       "2  They later returned to the revived series in t...   \n",
       "\n",
       "                                          tgt_text_3  \\\n",
       "0  Neighboring counties are Marin, Mendocino, Lak...   \n",
       "1  His name is on the drum. It's a Georgian inscr...   \n",
       "2  They brought back the series in a Christmas sp...   \n",
       "\n",
       "                                          tgt_text_4  \\\n",
       "0  Adjacent counties are Marin (south), Mendocino...   \n",
       "1  A Georgian inscription around the drum confirm...   \n",
       "2  They would return to the series in the 2008 Ch...   \n",
       "\n",
       "                                          tgt_text_5  \\\n",
       "0  Counties next to it are Marin (to the south), ...   \n",
       "1  A Georgian writing around the drum says his name.   \n",
       "2  They would later return to the revived series ...   \n",
       "\n",
       "                                          tgt_text_6  \\\n",
       "0  Marin, Mendocino, Lake, Napa, Solano, and Cont...   \n",
       "1  There is Georgian writing around the drum that...   \n",
       "2  They later showed up in the 2008 Christmas Spe...   \n",
       "\n",
       "                                          tgt_text_7  \\\n",
       "0  Adjacent counties are Marin, Mendocino, Lake, ...   \n",
       "1  An inscription around the drum is evidence of ...   \n",
       "2  They returned to the series in the 2008 Christ...   \n",
       "\n",
       "                                          tgt_text_8  \\\n",
       "0  Counties next door are Marin (south), Mendocin...   \n",
       "1  Georgian writing around the drum verifies his ...   \n",
       "2  The returned in the 2008 Christmas Special, \"T...   \n",
       "\n",
       "                                          tgt_text_9  src_id  \n",
       "0  Nearby counties are Marin (to the south), Mend...       0  \n",
       "1  Its name is referred by a Georgian inscription...       1  \n",
       "2  Later, they would return to the revived series...       2  "
      ]
     },
     "execution_count": 30,
     "metadata": {},
     "output_type": "execute_result"
    }
   ],
   "source": [
    "# dataset = 'asset_test' # \n",
    "dataset = 'asset_dev'\n",
    "# dataset = 'turk_test'\n",
    "\n",
    "if dataset.startswith('asset'):\n",
    "    file = f'/net/cephfs/scratch/tkew/ctrl_tokens/resources/data/en/aligned/{dataset}.tsv'    \n",
    "    columns = ['src_text'] + [f'tgt_text_{i}' for i in range(10)]\n",
    "elif dataset.startswith('turk'):\n",
    "    file = f'/net/cephfs/scratch/tkew/ctrl_tokens/resources/data/en/aligned/{dataset}.tsv'    \n",
    "    columns = ['src_text'] + [f'tgt_text_{i}' for i in range(8)]\n",
    "else:\n",
    "    raise NotImplementedError\n",
    "\n",
    "df = pd.read_csv(file, sep='\\t', header=None, names=columns)\n",
    "df['src_id'] = df.index\n",
    "df.head(3)"
   ]
  },
  {
   "cell_type": "code",
   "execution_count": 31,
   "metadata": {},
   "outputs": [
    {
     "data": {
      "text/html": [
       "<div>\n",
       "<style scoped>\n",
       "    .dataframe tbody tr th:only-of-type {\n",
       "        vertical-align: middle;\n",
       "    }\n",
       "\n",
       "    .dataframe tbody tr th {\n",
       "        vertical-align: top;\n",
       "    }\n",
       "\n",
       "    .dataframe thead th {\n",
       "        text-align: right;\n",
       "    }\n",
       "</style>\n",
       "<table border=\"1\" class=\"dataframe\">\n",
       "  <thead>\n",
       "    <tr style=\"text-align: right;\">\n",
       "      <th></th>\n",
       "      <th>src_id</th>\n",
       "      <th>src_text</th>\n",
       "      <th>tgt_text_id</th>\n",
       "      <th>tgt_text</th>\n",
       "    </tr>\n",
       "  </thead>\n",
       "  <tbody>\n",
       "    <tr>\n",
       "      <th>0</th>\n",
       "      <td>0</td>\n",
       "      <td>Adjacent counties are Marin (to the south), Me...</td>\n",
       "      <td>tgt_text_0</td>\n",
       "      <td>countries next to it are Marin, Mendocino, Lak...</td>\n",
       "    </tr>\n",
       "    <tr>\n",
       "      <th>2000</th>\n",
       "      <td>0</td>\n",
       "      <td>Adjacent counties are Marin (to the south), Me...</td>\n",
       "      <td>tgt_text_1</td>\n",
       "      <td>Nearby counties are Marin, Mendocino, Lake, Na...</td>\n",
       "    </tr>\n",
       "    <tr>\n",
       "      <th>4000</th>\n",
       "      <td>0</td>\n",
       "      <td>Adjacent counties are Marin (to the south), Me...</td>\n",
       "      <td>tgt_text_2</td>\n",
       "      <td>Adjacent counties are Marin, Mendocino, Lake, ...</td>\n",
       "    </tr>\n",
       "    <tr>\n",
       "      <th>6000</th>\n",
       "      <td>0</td>\n",
       "      <td>Adjacent counties are Marin (to the south), Me...</td>\n",
       "      <td>tgt_text_3</td>\n",
       "      <td>Neighboring counties are Marin, Mendocino, Lak...</td>\n",
       "    </tr>\n",
       "    <tr>\n",
       "      <th>8000</th>\n",
       "      <td>0</td>\n",
       "      <td>Adjacent counties are Marin (to the south), Me...</td>\n",
       "      <td>tgt_text_4</td>\n",
       "      <td>Adjacent counties are Marin (south), Mendocino...</td>\n",
       "    </tr>\n",
       "    <tr>\n",
       "      <th>10000</th>\n",
       "      <td>0</td>\n",
       "      <td>Adjacent counties are Marin (to the south), Me...</td>\n",
       "      <td>tgt_text_5</td>\n",
       "      <td>Counties next to it are Marin (to the south), ...</td>\n",
       "    </tr>\n",
       "    <tr>\n",
       "      <th>12000</th>\n",
       "      <td>0</td>\n",
       "      <td>Adjacent counties are Marin (to the south), Me...</td>\n",
       "      <td>tgt_text_6</td>\n",
       "      <td>Marin, Mendocino, Lake, Napa, Solano, and Cont...</td>\n",
       "    </tr>\n",
       "    <tr>\n",
       "      <th>14000</th>\n",
       "      <td>0</td>\n",
       "      <td>Adjacent counties are Marin (to the south), Me...</td>\n",
       "      <td>tgt_text_7</td>\n",
       "      <td>Adjacent counties are Marin, Mendocino, Lake, ...</td>\n",
       "    </tr>\n",
       "    <tr>\n",
       "      <th>16000</th>\n",
       "      <td>0</td>\n",
       "      <td>Adjacent counties are Marin (to the south), Me...</td>\n",
       "      <td>tgt_text_8</td>\n",
       "      <td>Counties next door are Marin (south), Mendocin...</td>\n",
       "    </tr>\n",
       "    <tr>\n",
       "      <th>18000</th>\n",
       "      <td>0</td>\n",
       "      <td>Adjacent counties are Marin (to the south), Me...</td>\n",
       "      <td>tgt_text_9</td>\n",
       "      <td>Nearby counties are Marin (to the south), Mend...</td>\n",
       "    </tr>\n",
       "    <tr>\n",
       "      <th>1</th>\n",
       "      <td>1</td>\n",
       "      <td>A Georgian inscription around the drum attests...</td>\n",
       "      <td>tgt_text_0</td>\n",
       "      <td>A writing around the drum confirms his name.</td>\n",
       "    </tr>\n",
       "    <tr>\n",
       "      <th>2001</th>\n",
       "      <td>1</td>\n",
       "      <td>A Georgian inscription around the drum attests...</td>\n",
       "      <td>tgt_text_1</td>\n",
       "      <td>A Georgian writing on the drum is his name.</td>\n",
       "    </tr>\n",
       "    <tr>\n",
       "      <th>4001</th>\n",
       "      <td>1</td>\n",
       "      <td>A Georgian inscription around the drum attests...</td>\n",
       "      <td>tgt_text_2</td>\n",
       "      <td>An inscription around the drum has his name.</td>\n",
       "    </tr>\n",
       "    <tr>\n",
       "      <th>6001</th>\n",
       "      <td>1</td>\n",
       "      <td>A Georgian inscription around the drum attests...</td>\n",
       "      <td>tgt_text_3</td>\n",
       "      <td>His name is on the drum. It's a Georgian inscr...</td>\n",
       "    </tr>\n",
       "  </tbody>\n",
       "</table>\n",
       "</div>"
      ],
      "text/plain": [
       "       src_id                                           src_text tgt_text_id  \\\n",
       "0           0  Adjacent counties are Marin (to the south), Me...  tgt_text_0   \n",
       "2000        0  Adjacent counties are Marin (to the south), Me...  tgt_text_1   \n",
       "4000        0  Adjacent counties are Marin (to the south), Me...  tgt_text_2   \n",
       "6000        0  Adjacent counties are Marin (to the south), Me...  tgt_text_3   \n",
       "8000        0  Adjacent counties are Marin (to the south), Me...  tgt_text_4   \n",
       "10000       0  Adjacent counties are Marin (to the south), Me...  tgt_text_5   \n",
       "12000       0  Adjacent counties are Marin (to the south), Me...  tgt_text_6   \n",
       "14000       0  Adjacent counties are Marin (to the south), Me...  tgt_text_7   \n",
       "16000       0  Adjacent counties are Marin (to the south), Me...  tgt_text_8   \n",
       "18000       0  Adjacent counties are Marin (to the south), Me...  tgt_text_9   \n",
       "1           1  A Georgian inscription around the drum attests...  tgt_text_0   \n",
       "2001        1  A Georgian inscription around the drum attests...  tgt_text_1   \n",
       "4001        1  A Georgian inscription around the drum attests...  tgt_text_2   \n",
       "6001        1  A Georgian inscription around the drum attests...  tgt_text_3   \n",
       "\n",
       "                                                tgt_text  \n",
       "0      countries next to it are Marin, Mendocino, Lak...  \n",
       "2000   Nearby counties are Marin, Mendocino, Lake, Na...  \n",
       "4000   Adjacent counties are Marin, Mendocino, Lake, ...  \n",
       "6000   Neighboring counties are Marin, Mendocino, Lak...  \n",
       "8000   Adjacent counties are Marin (south), Mendocino...  \n",
       "10000  Counties next to it are Marin (to the south), ...  \n",
       "12000  Marin, Mendocino, Lake, Napa, Solano, and Cont...  \n",
       "14000  Adjacent counties are Marin, Mendocino, Lake, ...  \n",
       "16000  Counties next door are Marin (south), Mendocin...  \n",
       "18000  Nearby counties are Marin (to the south), Mend...  \n",
       "1           A writing around the drum confirms his name.  \n",
       "2001         A Georgian writing on the drum is his name.  \n",
       "4001        An inscription around the drum has his name.  \n",
       "6001   His name is on the drum. It's a Georgian inscr...  "
      ]
     },
     "execution_count": 31,
     "metadata": {},
     "output_type": "execute_result"
    }
   ],
   "source": [
    "dfm = df.melt(id_vars=['src_id', 'src_text'], var_name='tgt_text_id', value_name='tgt_text')\n",
    "dfm.sort_values(by=['src_id', 'tgt_text_id'], axis=0, inplace=True)\n",
    "dfm.head(14)"
   ]
  },
  {
   "cell_type": "code",
   "execution_count": 32,
   "metadata": {},
   "outputs": [
    {
     "name": "stderr",
     "output_type": "stream",
     "text": [
      "100%|██████████| 20000/20000 [03:39<00:00, 91.29it/s] \n"
     ]
    },
    {
     "name": "stdout",
     "output_type": "stream",
     "text": [
      "Index(['src_id', 'src_text', 'tgt_text_id', 'tgt_text', 'len_ratio', 'lev_sim',\n",
      "       'word_rank', 'tree_depth'],\n",
      "      dtype='object')\n"
     ]
    }
   ],
   "source": [
    "def compute_features(row):\n",
    "    scores = get_features(row['src_text'], row['tgt_text'])\n",
    "    return scores\n",
    "\n",
    "dfm1 = dfm.progress_apply(compute_features, axis=1).apply(pd.Series)\n",
    "dfm = pd.concat([dfm, dfm1], axis=1)\n",
    "print(dfm.columns)"
   ]
  },
  {
   "cell_type": "code",
   "execution_count": 33,
   "metadata": {},
   "outputs": [],
   "source": [
    "# def compute_metrics(row):\n",
    "#     scores = {}\n",
    "#     fkgl = corpus_fkgl(row['tgt_text'])\n",
    "#     print(fkgl)\n",
    "#     scores['fkgl'] = fkgl\n",
    "#     return scores\n",
    "\n",
    "# dfm1 = dfm.progress_apply(compute_metrics, axis=1).apply(pd.Series)\n",
    "# dfm = pd.concat([dfm, dfm1], axis=1)\n",
    "# print(dfm.columns)"
   ]
  },
  {
   "cell_type": "code",
   "execution_count": null,
   "metadata": {},
   "outputs": [],
   "source": []
  },
  {
   "cell_type": "code",
   "execution_count": 34,
   "metadata": {},
   "outputs": [
    {
     "data": {
      "image/png": "[encoded data removed]",
      "text/plain": [
       "<Figure size 1152x432 with 2 Axes>"
      ]
     },
     "metadata": {
      "needs_background": "light"
     },
     "output_type": "display_data"
    }
   ],
   "source": [
    "fig, axes = plt.subplots(1, 2, figsize=(16,6), sharey=True)\n",
    "\n",
    "fig.suptitle(f'ACCESS Features on Human-written Simplifications from {dataset}')\n",
    "\n",
    "dfm.groupby('src_id')['len_ratio'].mean().plot(kind='kde', ax=axes[0], legend=True)\n",
    "dfm.groupby('src_id')['lev_sim'].mean().plot(kind='kde', ax=axes[0], legend=True)\n",
    "dfm.groupby('src_id')['word_rank'].mean().plot(kind='kde', ax=axes[0], legend=True)\n",
    "dfm.groupby('src_id')['tree_depth'].mean().plot(kind='kde', ax=axes[0], legend=True)\n",
    "\n",
    "axes[0].set_title(f'scores aggregated by unique source sentences')\n",
    "\n",
    "dfm['len_ratio'].plot(kind='kde', ax=axes[1], legend=True)\n",
    "dfm['lev_sim'].plot(kind='kde', ax=axes[1], legend=True)\n",
    "dfm['word_rank'].plot(kind='kde', ax=axes[1], legend=True)\n",
    "dfm['tree_depth'].plot(kind='kde', ax=axes[1], legend=True)\n",
    "\n",
    "axes[1].set_title(f'all scores')\n",
    "\n",
    "plt.savefig(f'../results/plots/ACCESS_features_on_{dataset}.png', dpi=200)"
   ]
  },
  {
   "cell_type": "code",
   "execution_count": 20,
   "metadata": {},
   "outputs": [
    {
     "data": {
      "text/plain": [
       "<AxesSubplot:ylabel='Density'>"
      ]
     },
     "execution_count": 20,
     "metadata": {},
     "output_type": "execute_result"
    },
    {
     "data": {
      "image/png": "[encoded data removed]",
      "text/plain": [
       "<Figure size 432x288 with 1 Axes>"
      ]
     },
     "metadata": {
      "needs_background": "light"
     },
     "output_type": "display_data"
    }
   ],
   "source": [
    "\n",
    "# plt.legend()"
   ]
  },
  {
   "cell_type": "code",
   "execution_count": 13,
   "metadata": {},
   "outputs": [
    {
     "data": {
      "text/plain": [
       "<pandas.core.groupby.generic.SeriesGroupBy object at 0x7fdbffcbed30>"
      ]
     },
     "execution_count": 13,
     "metadata": {},
     "output_type": "execute_result"
    }
   ],
   "source": [
    "# dfm.groupby('src_id')['len_ratio']"
   ]
  },
  {
   "cell_type": "code",
   "execution_count": 27,
   "metadata": {},
   "outputs": [
    {
     "data": {
      "image/png": "[encoded data removed]",
      "text/plain": [
       "<Figure size 576x432 with 1 Axes>"
      ]
     },
     "metadata": {
      "needs_background": "light"
     },
     "output_type": "display_data"
    }
   ],
   "source": [
    "# classes = [\"class 1\"] * 5 + [\"class 2\"] * 5\n",
    "# vals = [1,3,5,1,3] + [2,6,7,5,2]\n",
    "# p_df = pd.DataFrame({\"class\": classes, \"vals\": vals})\n",
    "\n",
    "fig, ax = plt.subplots(figsize=(8,6))\n",
    "for i, (label, gdf) in enumerate(dfm.groupby('src_id')):\n",
    "    if i > 20:\n",
    "        break\n",
    "#     print(len(gdf))\n",
    "    gdf['len_ratio'].plot(kind=\"kde\", ax=ax, label=label)\n",
    "#     gdf['len_ratio'].plot(kind=\"box\", ax=ax, label=label, positions=np.arange(0.0,4.0,1.0))\n",
    "# plt.legend()\n"
   ]
  },
  {
   "cell_type": "code",
   "execution_count": null,
   "metadata": {},
   "outputs": [],
   "source": []
  },
  {
   "cell_type": "code",
   "execution_count": null,
   "metadata": {},
   "outputs": [],
   "source": []
  },
  {
   "cell_type": "code",
   "execution_count": null,
   "metadata": {},
   "outputs": [],
   "source": []
  },
  {
   "cell_type": "code",
   "execution_count": null,
   "metadata": {},
   "outputs": [],
   "source": []
  },
  {
   "cell_type": "code",
   "execution_count": null,
   "metadata": {},
   "outputs": [],
   "source": [
    "# def load_dataset(file):\n",
    "#     src_texts = []\n",
    "#     tgt_texts = []\n",
    "#     with open(file, 'r', encoding='utf8') as f:\n",
    "#         for line in f:\n",
    "#             sents = line.strip().split('\\t')\n",
    "#             src_texts.append(sents[0])\n",
    "#             tgt_texts.append(sents[1:])\n",
    "#     return src_texts, tgt_texts\n",
    "\n",
    "# dataset = '/net/cephfs/scratch/tkew/ctrl_tokens/resources/data/en/aligned/asset_de.tsv'\n",
    "# src_texts, tgt_texts = load_dataset(dataset)"
   ]
  },
  {
   "cell_type": "code",
   "execution_count": 52,
   "metadata": {},
   "outputs": [
    {
     "data": {
      "text/plain": [
       "[[{'len_ratio': 0.7582938388625592,\n",
       "   'lev_sim': 0.7439353099730458,\n",
       "   'word_rank': 1.071347346372436,\n",
       "   'tree_depth': 0.625},\n",
       "  {'len_ratio': 1.085308056872038,\n",
       "   'lev_sim': 0.9545454545454546,\n",
       "   'word_rank': 1.0,\n",
       "   'tree_depth': 1.0},\n",
       "  {'len_ratio': 0.4549763033175355,\n",
       "   'lev_sim': 0.6254071661237784,\n",
       "   'word_rank': 0.9850776779941764,\n",
       "   'tree_depth': 0.5},\n",
       "  {'len_ratio': 0.8246445497630331,\n",
       "   'lev_sim': 0.8779220779220779,\n",
       "   'word_rank': 1.0394386135868747,\n",
       "   'tree_depth': 1.25},\n",
       "  {'len_ratio': 1.014218009478673,\n",
       "   'lev_sim': 0.851764705882353,\n",
       "   'word_rank': 1.0137337119881595,\n",
       "   'tree_depth': 1.0},\n",
       "  {'len_ratio': 1.0900473933649288,\n",
       "   'lev_sim': 0.8344671201814059,\n",
       "   'word_rank': 1.015656164796063,\n",
       "   'tree_depth': 0.875},\n",
       "  {'len_ratio': 0.6824644549763034,\n",
       "   'lev_sim': 0.7492957746478873,\n",
       "   'word_rank': 1.0873017127652163,\n",
       "   'tree_depth': 1.0},\n",
       "  {'len_ratio': 1.080568720379147,\n",
       "   'lev_sim': 0.9202733485193622,\n",
       "   'word_rank': 1.0246764235062307,\n",
       "   'tree_depth': 1.0},\n",
       "  {'len_ratio': 0.9478672985781991,\n",
       "   'lev_sim': 0.8029197080291971,\n",
       "   'word_rank': 0.9844821063703547,\n",
       "   'tree_depth': 0.75},\n",
       "  {'len_ratio': 0.9146919431279621,\n",
       "   'lev_sim': 0.6138613861386139,\n",
       "   'word_rank': 0.9902494647940651,\n",
       "   'tree_depth': 0.625}]]"
      ]
     },
     "execution_count": 52,
     "metadata": {},
     "output_type": "execute_result"
    }
   ],
   "source": [
    "# all_feats = []\n",
    "# for src, tgts in zip(src_texts, tgt_texts):\n",
    "#     feats = []\n",
    "#     for tgt in tgts:\n",
    "#         feats.append(get_features(src, tgt))\n",
    "#     all_feats.append(feats)\n",
    "# all_feats[:1]"
   ]
  },
  {
   "cell_type": "code",
   "execution_count": null,
   "metadata": {},
   "outputs": [],
   "source": []
  },
  {
   "cell_type": "code",
   "execution_count": 48,
   "metadata": {},
   "outputs": [],
   "source": [
    "def avg_scores(l):\n",
    "    d = {}\n",
    "    keys = list(l[0].keys())\n",
    "    for k in keys:\n",
    "#         print(k)\n",
    "        vals = np.array([l_i[k] for l_i in l])\n",
    "        d[f'{k}_mean'] = vals.mean()\n",
    "        d[f'{k}_std'] = vals.std()\n",
    "    return d"
   ]
  },
  {
   "cell_type": "code",
   "execution_count": 49,
   "metadata": {},
   "outputs": [
    {
     "data": {
      "text/plain": [
       "[{'len_ratio_mean': 0.885308056872038,\n",
       "  'len_ratio_std': 0.19687137618628905,\n",
       "  'lev_sim_mean': 0.7974392051963176,\n",
       "  'lev_sim_std': 0.10912229396569519,\n",
       "  'word_rank_mean': 1.0211963222173577,\n",
       "  'word_rank_std': 0.03372803914262686,\n",
       "  'tree_depth_mean': 0.8625,\n",
       "  'tree_depth_std': 0.2197299478905868},\n",
       " {'len_ratio_mean': 0.8041666666666666,\n",
       "  'len_ratio_std': 0.23033791601808756,\n",
       "  'lev_sim_mean': 0.7552030452084897,\n",
       "  'lev_sim_std': 0.12637070121489186,\n",
       "  'word_rank_mean': 0.965236751466392,\n",
       "  'word_rank_std': 0.04969667479014128,\n",
       "  'tree_depth_mean': 0.8142857142857143,\n",
       "  'tree_depth_std': 0.16963345838625593},\n",
       " {'len_ratio_mean': 0.8272727272727274,\n",
       "  'len_ratio_std': 0.09799118698777318,\n",
       "  'lev_sim_mean': 0.8149940477232945,\n",
       "  'lev_sim_std': 0.11153247469302438,\n",
       "  'word_rank_mean': 1.0311641711089075,\n",
       "  'word_rank_std': 0.022346867502421333,\n",
       "  'tree_depth_mean': 0.8833333333333334,\n",
       "  'tree_depth_std': 0.10671873729054747}]"
      ]
     },
     "execution_count": 49,
     "metadata": {},
     "output_type": "execute_result"
    }
   ],
   "source": [
    "avg_feats = []\n",
    "for i, (s, tgts, feats) in enumerate(zip(src_texts, tgt_texts, all_feats)):\n",
    "#     if i > 1:\n",
    "#         break\n",
    "#     print(f'{i}\\t{s}\\t{tgts}\\t{feats}\\n')\n",
    "    avg_feats.append(avg_scores(feats))\n",
    "avg_feats[:3]"
   ]
  },
  {
   "cell_type": "code",
   "execution_count": 136,
   "metadata": {},
   "outputs": [
    {
     "data": {
      "text/html": [
       "<div>\n",
       "<style scoped>\n",
       "    .dataframe tbody tr th:only-of-type {\n",
       "        vertical-align: middle;\n",
       "    }\n",
       "\n",
       "    .dataframe tbody tr th {\n",
       "        vertical-align: top;\n",
       "    }\n",
       "\n",
       "    .dataframe thead th {\n",
       "        text-align: right;\n",
       "    }\n",
       "</style>\n",
       "<table border=\"1\" class=\"dataframe\">\n",
       "  <thead>\n",
       "    <tr style=\"text-align: right;\">\n",
       "      <th></th>\n",
       "      <th>len_ratio_mean</th>\n",
       "      <th>len_ratio_std</th>\n",
       "      <th>lev_sim_mean</th>\n",
       "      <th>lev_sim_std</th>\n",
       "      <th>word_rank_mean</th>\n",
       "      <th>word_rank_std</th>\n",
       "      <th>tree_depth_mean</th>\n",
       "      <th>tree_depth_std</th>\n",
       "    </tr>\n",
       "  </thead>\n",
       "  <tbody>\n",
       "    <tr>\n",
       "      <th>0</th>\n",
       "      <td>0.885308</td>\n",
       "      <td>0.196871</td>\n",
       "      <td>0.797439</td>\n",
       "      <td>0.109122</td>\n",
       "      <td>1.021196</td>\n",
       "      <td>0.033728</td>\n",
       "      <td>0.862500</td>\n",
       "      <td>0.219730</td>\n",
       "    </tr>\n",
       "    <tr>\n",
       "      <th>1</th>\n",
       "      <td>0.804167</td>\n",
       "      <td>0.230338</td>\n",
       "      <td>0.755203</td>\n",
       "      <td>0.126371</td>\n",
       "      <td>0.965237</td>\n",
       "      <td>0.049697</td>\n",
       "      <td>0.814286</td>\n",
       "      <td>0.169633</td>\n",
       "    </tr>\n",
       "    <tr>\n",
       "      <th>2</th>\n",
       "      <td>0.827273</td>\n",
       "      <td>0.097991</td>\n",
       "      <td>0.814994</td>\n",
       "      <td>0.111532</td>\n",
       "      <td>1.031164</td>\n",
       "      <td>0.022347</td>\n",
       "      <td>0.883333</td>\n",
       "      <td>0.106719</td>\n",
       "    </tr>\n",
       "    <tr>\n",
       "      <th>3</th>\n",
       "      <td>0.761386</td>\n",
       "      <td>0.139069</td>\n",
       "      <td>0.756050</td>\n",
       "      <td>0.147578</td>\n",
       "      <td>1.121528</td>\n",
       "      <td>0.124963</td>\n",
       "      <td>0.866667</td>\n",
       "      <td>0.163299</td>\n",
       "    </tr>\n",
       "    <tr>\n",
       "      <th>4</th>\n",
       "      <td>0.819136</td>\n",
       "      <td>0.162922</td>\n",
       "      <td>0.783937</td>\n",
       "      <td>0.104878</td>\n",
       "      <td>0.949423</td>\n",
       "      <td>0.026913</td>\n",
       "      <td>0.833333</td>\n",
       "      <td>0.129099</td>\n",
       "    </tr>\n",
       "    <tr>\n",
       "      <th>...</th>\n",
       "      <td>...</td>\n",
       "      <td>...</td>\n",
       "      <td>...</td>\n",
       "      <td>...</td>\n",
       "      <td>...</td>\n",
       "      <td>...</td>\n",
       "      <td>...</td>\n",
       "      <td>...</td>\n",
       "    </tr>\n",
       "    <tr>\n",
       "      <th>354</th>\n",
       "      <td>0.604327</td>\n",
       "      <td>0.230027</td>\n",
       "      <td>0.627071</td>\n",
       "      <td>0.157844</td>\n",
       "      <td>0.972244</td>\n",
       "      <td>0.047175</td>\n",
       "      <td>0.787500</td>\n",
       "      <td>0.201944</td>\n",
       "    </tr>\n",
       "    <tr>\n",
       "      <th>355</th>\n",
       "      <td>0.812941</td>\n",
       "      <td>0.230627</td>\n",
       "      <td>0.730933</td>\n",
       "      <td>0.097577</td>\n",
       "      <td>1.004782</td>\n",
       "      <td>0.028005</td>\n",
       "      <td>0.975000</td>\n",
       "      <td>0.207666</td>\n",
       "    </tr>\n",
       "    <tr>\n",
       "      <th>356</th>\n",
       "      <td>0.838012</td>\n",
       "      <td>0.143913</td>\n",
       "      <td>0.772663</td>\n",
       "      <td>0.142331</td>\n",
       "      <td>0.995983</td>\n",
       "      <td>0.009907</td>\n",
       "      <td>0.725000</td>\n",
       "      <td>0.242384</td>\n",
       "    </tr>\n",
       "    <tr>\n",
       "      <th>357</th>\n",
       "      <td>0.906395</td>\n",
       "      <td>0.120461</td>\n",
       "      <td>0.830371</td>\n",
       "      <td>0.104908</td>\n",
       "      <td>0.983196</td>\n",
       "      <td>0.046835</td>\n",
       "      <td>0.828571</td>\n",
       "      <td>0.166599</td>\n",
       "    </tr>\n",
       "    <tr>\n",
       "      <th>358</th>\n",
       "      <td>0.961404</td>\n",
       "      <td>0.058213</td>\n",
       "      <td>0.854626</td>\n",
       "      <td>0.085377</td>\n",
       "      <td>1.004186</td>\n",
       "      <td>0.019332</td>\n",
       "      <td>1.050000</td>\n",
       "      <td>0.130171</td>\n",
       "    </tr>\n",
       "  </tbody>\n",
       "</table>\n",
       "<p>359 rows × 8 columns</p>\n",
       "</div>"
      ],
      "text/plain": [
       "     len_ratio_mean  len_ratio_std  lev_sim_mean  lev_sim_std  word_rank_mean  \\\n",
       "0          0.885308       0.196871      0.797439     0.109122        1.021196   \n",
       "1          0.804167       0.230338      0.755203     0.126371        0.965237   \n",
       "2          0.827273       0.097991      0.814994     0.111532        1.031164   \n",
       "3          0.761386       0.139069      0.756050     0.147578        1.121528   \n",
       "4          0.819136       0.162922      0.783937     0.104878        0.949423   \n",
       "..              ...            ...           ...          ...             ...   \n",
       "354        0.604327       0.230027      0.627071     0.157844        0.972244   \n",
       "355        0.812941       0.230627      0.730933     0.097577        1.004782   \n",
       "356        0.838012       0.143913      0.772663     0.142331        0.995983   \n",
       "357        0.906395       0.120461      0.830371     0.104908        0.983196   \n",
       "358        0.961404       0.058213      0.854626     0.085377        1.004186   \n",
       "\n",
       "     word_rank_std  tree_depth_mean  tree_depth_std  \n",
       "0         0.033728         0.862500        0.219730  \n",
       "1         0.049697         0.814286        0.169633  \n",
       "2         0.022347         0.883333        0.106719  \n",
       "3         0.124963         0.866667        0.163299  \n",
       "4         0.026913         0.833333        0.129099  \n",
       "..             ...              ...             ...  \n",
       "354       0.047175         0.787500        0.201944  \n",
       "355       0.028005         0.975000        0.207666  \n",
       "356       0.009907         0.725000        0.242384  \n",
       "357       0.046835         0.828571        0.166599  \n",
       "358       0.019332         1.050000        0.130171  \n",
       "\n",
       "[359 rows x 8 columns]"
      ]
     },
     "execution_count": 136,
     "metadata": {},
     "output_type": "execute_result"
    }
   ],
   "source": [
    "df = pd.DataFrame(avg_feats)\n",
    "df"
   ]
  },
  {
   "cell_type": "code",
   "execution_count": 139,
   "metadata": {},
   "outputs": [
    {
     "data": {
      "text/plain": [
       "<AxesSubplot:>"
      ]
     },
     "execution_count": 139,
     "metadata": {},
     "output_type": "execute_result"
    },
    {
     "data": {
      "image/png": "[encoded data removed]",
      "text/plain": [
       "<Figure size 864x432 with 1 Axes>"
      ]
     },
     "metadata": {
      "needs_background": "light"
     },
     "output_type": "display_data"
    }
   ],
   "source": [
    "df.plot(kind='box', figsize=(12,6))"
   ]
  },
  {
   "cell_type": "code",
   "execution_count": 63,
   "metadata": {},
   "outputs": [
    {
     "name": "stdout",
     "output_type": "stream",
     "text": [
      "0.8293269304846277\n",
      "0.1828132246065166\n",
      "0.7457806817217253\n",
      "0.135319171753172\n",
      "0.9740878884136109\n",
      "0.05596096288931894\n",
      "0.8837587458966288\n",
      "0.2151091834782573\n"
     ]
    }
   ],
   "source": [
    "def avg_std_deviation_from_equal_sample_size(s):\n",
    "    \"\"\"\n",
    "    https://www.statology.org/averaging-standard-deviations/\n",
    "    \n",
    "    Average S.D. = √ (s1**2 +  s2**2 + … + sk**2) / k\n",
    "    \"\"\"\n",
    "#     print(sum(i**2 for i in s))\n",
    "    return math.sqrt(sum(i**2 for i in s) / len(s))\n",
    "\n",
    "print(df['len_ratio_mean'].mean())\n",
    "print(avg_std_deviation_from_equal_sample_size(df['len_ratio_std']))\n",
    "\n",
    "print(df['lev_sim_mean'].mean())\n",
    "print(avg_std_deviation_from_equal_sample_size(df['lev_sim_std']))\n",
    "\n",
    "print(df['word_rank_mean'].mean())\n",
    "print(avg_std_deviation_from_equal_sample_size(df['word_rank_std']))\n",
    "\n",
    "print(df['tree_depth_mean'].mean())\n",
    "print(avg_std_deviation_from_equal_sample_size(df['tree_depth_std']))"
   ]
  },
  {
   "cell_type": "code",
   "execution_count": null,
   "metadata": {},
   "outputs": [],
   "source": []
  }
 ],
 "metadata": {
  "kernelspec": {
   "display_name": "ctrl_tokens",
   "language": "python",
   "name": "ctrl_tokens"
  },
  "language_info": {
   "codemirror_mode": {
    "name": "ipython",
    "version": 3
   },
   "file_extension": ".py",
   "mimetype": "text/x-python",
   "name": "python",
   "nbconvert_exporter": "python",
   "pygments_lexer": "ipython3",
   "version": "3.8.13"
  }
 },
 "nbformat": 4,
 "nbformat_minor": 4
}
