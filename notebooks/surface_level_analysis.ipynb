{
 "cells": [
  {
   "cell_type": "code",
   "execution_count": 1,
   "metadata": {},
   "outputs": [
    {
     "name": "stdout",
     "output_type": "stream",
     "text": [
      "Sat Jul 23 18:15:41 2022       \n",
      "+-----------------------------------------------------------------------------+\n",
      "| NVIDIA-SMI 460.32.03    Driver Version: 460.32.03    CUDA Version: 11.2     |\n",
      "|-------------------------------+----------------------+----------------------+\n",
      "| GPU  Name        Persistence-M| Bus-Id        Disp.A | Volatile Uncorr. ECC |\n",
      "| Fan  Temp  Perf  Pwr:Usage/Cap|         Memory-Usage | GPU-Util  Compute M. |\n",
      "|                               |                      |               MIG M. |\n",
      "|===============================+======================+======================|\n",
      "|   0  Tesla K80           On   | 00000000:06:00.0 Off |                    0 |\n",
      "| N/A   42C    P8    27W / 149W |      3MiB / 11441MiB |      0%      Default |\n",
      "|                               |                      |                  N/A |\n",
      "+-------------------------------+----------------------+----------------------+\n",
      "|   1  Tesla K80           On   | 00000000:07:00.0 Off |                    0 |\n",
      "| N/A   30C    P8    29W / 149W |      0MiB / 11441MiB |      0%      Default |\n",
      "|                               |                      |                  N/A |\n",
      "+-------------------------------+----------------------+----------------------+\n",
      "|   2  Tesla K80           On   | 00000000:0A:00.0 Off |                    0 |\n",
      "| N/A   27C    P8    25W / 149W |      0MiB / 11441MiB |      0%      Default |\n",
      "|                               |                      |                  N/A |\n",
      "+-------------------------------+----------------------+----------------------+\n",
      "|   3  Tesla K80           On   | 00000000:0B:00.0 Off |                    0 |\n",
      "| N/A   25C    P8    29W / 149W |      0MiB / 11441MiB |      0%      Default |\n",
      "|                               |                      |                  N/A |\n",
      "+-------------------------------+----------------------+----------------------+\n",
      "|   4  Tesla K80           On   | 00000000:10:00.0 Off |                    0 |\n",
      "| N/A   27C    P8    25W / 149W |      0MiB / 11441MiB |      0%      Default |\n",
      "|                               |                      |                  N/A |\n",
      "+-------------------------------+----------------------+----------------------+\n",
      "|   5  Tesla K80           On   | 00000000:11:00.0 Off |                    0 |\n",
      "| N/A   25C    P8    30W / 149W |      0MiB / 11441MiB |      0%      Default |\n",
      "|                               |                      |                  N/A |\n",
      "+-------------------------------+----------------------+----------------------+\n",
      "|   6  Tesla K80           On   | 00000000:14:00.0 Off |                    0 |\n",
      "| N/A   30C    P8    27W / 149W |      0MiB / 11441MiB |      0%      Default |\n",
      "|                               |                      |                  N/A |\n",
      "+-------------------------------+----------------------+----------------------+\n",
      "|   7  Tesla K80           On   | 00000000:15:00.0 Off |                    0 |\n",
      "| N/A   25C    P8    27W / 149W |      0MiB / 11441MiB |      0%      Default |\n",
      "|                               |                      |                  N/A |\n",
      "+-------------------------------+----------------------+----------------------+\n",
      "|   8  Tesla K80           On   | 00000000:86:00.0 Off |                    0 |\n",
      "| N/A   46C    P0    64W / 149W |  11362MiB / 11441MiB |      0%      Default |\n",
      "|                               |                      |                  N/A |\n",
      "+-------------------------------+----------------------+----------------------+\n",
      "|   9  Tesla K80           On   | 00000000:87:00.0 Off |                    0 |\n",
      "| N/A   33C    P0    79W / 149W |  11291MiB / 11441MiB |      0%      Default |\n",
      "|                               |                      |                  N/A |\n",
      "+-------------------------------+----------------------+----------------------+\n",
      "|  10  Tesla K80           On   | 00000000:8A:00.0 Off |                    0 |\n",
      "| N/A   28C    P8    26W / 149W |      0MiB / 11441MiB |      0%      Default |\n",
      "|                               |                      |                  N/A |\n",
      "+-------------------------------+----------------------+----------------------+\n",
      "|  11  Tesla K80           On   | 00000000:8B:00.0 Off |                    0 |\n",
      "| N/A   23C    P8    30W / 149W |      0MiB / 11441MiB |      0%      Default |\n",
      "|                               |                      |                  N/A |\n",
      "+-------------------------------+----------------------+----------------------+\n",
      "|  12  Tesla K80           On   | 00000000:90:00.0 Off |                    0 |\n",
      "| N/A   30C    P8    26W / 149W |      0MiB / 11441MiB |      0%      Default |\n",
      "|                               |                      |                  N/A |\n",
      "+-------------------------------+----------------------+----------------------+\n",
      "|  13  Tesla K80           On   | 00000000:91:00.0 Off |                    0 |\n",
      "| N/A   23C    P8    29W / 149W |      0MiB / 11441MiB |      0%      Default |\n",
      "|                               |                      |                  N/A |\n",
      "+-------------------------------+----------------------+----------------------+\n",
      "|  14  Tesla K80           On   | 00000000:94:00.0 Off |                    0 |\n",
      "| N/A   28C    P8    25W / 149W |      0MiB / 11441MiB |      0%      Default |\n",
      "|                               |                      |                  N/A |\n",
      "+-------------------------------+----------------------+----------------------+\n",
      "|  15  Tesla K80           On   | 00000000:95:00.0 Off |                    0 |\n",
      "| N/A   24C    P8    30W / 149W |      0MiB / 11441MiB |      0%      Default |\n",
      "|                               |                      |                  N/A |\n",
      "+-------------------------------+----------------------+----------------------+\n",
      "                                                                               \n",
      "+-----------------------------------------------------------------------------+\n",
      "| Processes:                                                                  |\n",
      "|  GPU   GI   CI        PID   Type   Process name                  GPU Memory |\n",
      "|        ID   ID                                                   Usage      |\n",
      "|=============================================================================|\n",
      "|    8   N/A  N/A   2473738      C   .../envs/semantic/bin/python    11349MiB |\n",
      "|    9   N/A  N/A   2660219      C   python                          11274MiB |\n",
      "+-----------------------------------------------------------------------------+\n"
     ]
    }
   ],
   "source": [
    "!nvidia-smi"
   ]
  },
  {
   "cell_type": "code",
   "execution_count": 1,
   "metadata": {},
   "outputs": [],
   "source": [
    "%load_ext autoreload\n",
    "%autoreload 2\n",
    "    \n",
    "import sys\n",
    "sys.path.append(\"../\") # go to parent dir\n",
    "\n",
    "from muss_utils import (\n",
    "    compute_features, \n",
    "    fetch_preprocessor_used_in_muss_model_training, \n",
    "    build_processor_combinations, \n",
    "    construct_multiple_training_instances,\n",
    "    get_params_as_dict,\n",
    "    strip_params,\n",
    "    build_processor_values,\n",
    ")\n",
    "\n",
    "from utils import *\n",
    "\n",
    "from transformers import BartForConditionalGeneration, BartTokenizer, AutoTokenizer, AutoModel, utils\n",
    "from nltk.metrics.distance import edit_distance\n",
    "from string import Template\n",
    "import numpy as np\n",
    "import math\n",
    "import random\n",
    "# from itertools import combinations\n",
    "import itertools\n",
    "import torch\n",
    "from pathlib import Path\n",
    "import os\n",
    "from typing import List, Tuple\n",
    "import warnings\n",
    "from tqdm import tqdm\n",
    "import pandas as pd\n",
    "import matplotlib.pyplot as plt\n",
    "import seaborn as sns\n",
    "import json"
   ]
  },
  {
   "cell_type": "code",
   "execution_count": 2,
   "metadata": {},
   "outputs": [
    {
     "name": "stdout",
     "output_type": "stream",
     "text": [
      "device: cpu\n"
     ]
    }
   ],
   "source": [
    "GPU = \"15\"\n",
    "os.environ[\"CUDA_VISIBLE_DEVICES\"] = GPU\n",
    "\n",
    "if torch.cuda.is_available():    \n",
    "    print(torch.cuda.current_device())\n",
    "    print(torch.cuda.device)\n",
    "    torch.cuda.device = GPU\n",
    "    print(torch.cuda.device)\n",
    "    device = 'cuda'\n",
    "else:\n",
    "    device = 'cpu'\n",
    "print(f'device: {device}')"
   ]
  },
  {
   "cell_type": "code",
   "execution_count": 3,
   "metadata": {},
   "outputs": [],
   "source": [
    "# set to true to run generation\n",
    "overwite = False"
   ]
  },
  {
   "cell_type": "code",
   "execution_count": 4,
   "metadata": {},
   "outputs": [],
   "source": [
    "# Initialize tokenizer and model. Be sure to set output_attentions=True.\n",
    "# Load BART fine-tuned for summarization on CNN/Daily Mail dataset\n",
    "if overwite:\n",
    "    model_path = \"/scratch/tkew/ctrl_tokens/resources/models/muss_en_mined_hf\"\n",
    "    tokenizer = BartTokenizer.from_pretrained(model_path)\n",
    "    model = BartForConditionalGeneration.from_pretrained(model_path, output_attentions=True)\n",
    "    model = model.eval()\n",
    "    model = model.to(device)"
   ]
  },
  {
   "cell_type": "code",
   "execution_count": 16,
   "metadata": {},
   "outputs": [
    {
     "name": "stdout",
     "output_type": "stream",
     "text": [
      "../results/muss_params_and_attrs_on_asset_test_30000_idparams.json\n"
     ]
    }
   ],
   "source": [
    "SEED = 4\n",
    "batch_size = 24\n",
    "sample = True\n",
    "# sample_size = 0.01\n",
    "sample_size = 30000\n",
    "params_range = \"id\" # ood\n",
    "# params_range = \"ood\"\n",
    "# dataset = 'examples.en' # \n",
    "dataset = 'asset_test' # 320\n",
    "\n",
    "if dataset.startswith('asset'):\n",
    "    file = f'/scratch/tkew/ctrl_tokens/resources/data/en/aligned/{dataset}.tsv'    \n",
    "# elif dataset.startswith('turk'):\n",
    "#     file = f'/scratch/tkew/ctrl_tokens/resources/data/en/aligned/{dataset}.tsv'    \n",
    "elif dataset == 'examples.en':\n",
    "    file = f'/scratch/tkew/ctrl_tokens/resources/data/{dataset}'    \n",
    "    \n",
    "outfile = Path(f'../results/muss_params_and_attrs_on_{dataset}_{sample_size}_{params_range}params.json')\n",
    "print(outfile)\n"
   ]
  },
  {
   "cell_type": "code",
   "execution_count": 17,
   "metadata": {},
   "outputs": [
    {
     "name": "stdout",
     "output_type": "stream",
     "text": [
      "Loaded preprocessors: [LengthRatioPreprocessor(target_ratio=0.8, use_short_name=False), ReplaceOnlyLevenshteinPreprocessor(bucket_size=0.05, noise_std=0, target_ratio=0.8, use_short_name=False), WordRankRatioPreprocessor(language='en', target_ratio=0.8, use_short_name=False), DependencyTreeDepthRatioPreprocessor(language='en', target_ratio=0.8, use_short_name=False)]\n"
     ]
    }
   ],
   "source": [
    "preprocessors = fetch_preprocessor_used_in_muss_model_training()"
   ]
  },
  {
   "cell_type": "code",
   "execution_count": 18,
   "metadata": {},
   "outputs": [
    {
     "name": "stdout",
     "output_type": "stream",
     "text": [
      "Possible params:\n",
      "[['<DEPENDENCYTREEDEPTHRATIO_0.5>', '<DEPENDENCYTREEDEPTHRATIO_0.55>', '<DEPENDENCYTREEDEPTHRATIO_0.6>', '<DEPENDENCYTREEDEPTHRATIO_0.65>', '<DEPENDENCYTREEDEPTHRATIO_0.7>', '<DEPENDENCYTREEDEPTHRATIO_0.75>', '<DEPENDENCYTREEDEPTHRATIO_0.8>', '<DEPENDENCYTREEDEPTHRATIO_0.85>', '<DEPENDENCYTREEDEPTHRATIO_0.9>', '<DEPENDENCYTREEDEPTHRATIO_0.95>', '<DEPENDENCYTREEDEPTHRATIO_1.0>', '<DEPENDENCYTREEDEPTHRATIO_1.05>', '<DEPENDENCYTREEDEPTHRATIO_1.1>', '<DEPENDENCYTREEDEPTHRATIO_1.15>', '<DEPENDENCYTREEDEPTHRATIO_1.2>', '<DEPENDENCYTREEDEPTHRATIO_1.25>', '<DEPENDENCYTREEDEPTHRATIO_1.3>', '<DEPENDENCYTREEDEPTHRATIO_1.35>', '<DEPENDENCYTREEDEPTHRATIO_1.4>', '<DEPENDENCYTREEDEPTHRATIO_1.45>'], ['<WORDRANKRATIO_0.7>', '<WORDRANKRATIO_0.75>', '<WORDRANKRATIO_0.8>', '<WORDRANKRATIO_0.85>', '<WORDRANKRATIO_0.9>', '<WORDRANKRATIO_0.95>', '<WORDRANKRATIO_1.0>', '<WORDRANKRATIO_1.05>', '<WORDRANKRATIO_1.1>', '<WORDRANKRATIO_1.15>'], ['<REPLACEONLYLEVENSHTEIN_0.5>', '<REPLACEONLYLEVENSHTEIN_0.55>', '<REPLACEONLYLEVENSHTEIN_0.6>', '<REPLACEONLYLEVENSHTEIN_0.65>', '<REPLACEONLYLEVENSHTEIN_0.7>', '<REPLACEONLYLEVENSHTEIN_0.75>', '<REPLACEONLYLEVENSHTEIN_0.8>', '<REPLACEONLYLEVENSHTEIN_0.85>', '<REPLACEONLYLEVENSHTEIN_0.9>', '<REPLACEONLYLEVENSHTEIN_0.95>'], ['<LENGTHRATIO_0.7>', '<LENGTHRATIO_0.75>', '<LENGTHRATIO_0.8>', '<LENGTHRATIO_0.85>', '<LENGTHRATIO_0.9>', '<LENGTHRATIO_0.95>', '<LENGTHRATIO_1.0>', '<LENGTHRATIO_1.05>', '<LENGTHRATIO_1.1>', '<LENGTHRATIO_1.15>']]\n",
      "\n",
      "Possible param combinations:\n",
      "Total number of possible parameter combinations: 20000\n",
      "e.g.: [('<DEPENDENCYTREEDEPTHRATIO_0.5>', '<WORDRANKRATIO_0.7>', '<REPLACEONLYLEVENSHTEIN_0.5>', '<LENGTHRATIO_0.7>'), ('<DEPENDENCYTREEDEPTHRATIO_0.5>', '<WORDRANKRATIO_0.7>', '<REPLACEONLYLEVENSHTEIN_0.5>', '<LENGTHRATIO_0.75>'), ('<DEPENDENCYTREEDEPTHRATIO_0.5>', '<WORDRANKRATIO_0.7>', '<REPLACEONLYLEVENSHTEIN_0.5>', '<LENGTHRATIO_0.8>'), ('<DEPENDENCYTREEDEPTHRATIO_0.5>', '<WORDRANKRATIO_0.7>', '<REPLACEONLYLEVENSHTEIN_0.5>', '<LENGTHRATIO_0.85>')] ...\n",
      "\n"
     ]
    }
   ],
   "source": [
    "\n",
    "# set based on distribution of values in training data\n",
    "if params_range == \"id\":\n",
    "    min_max_step_vals = {\n",
    "        'LENGTHRATIO': (0.7, 1.2, 0.05), \n",
    "        'REPLACEONLYLEVENSHTEIN': (0.5, 1.0, 0.05), \n",
    "        'WORDRANKRATIO': (0.7, 1.2, 0.05), \n",
    "        'DEPENDENCYTREEDEPTHRATIO': (0.5, 1.5, 0.05),\n",
    "    }\n",
    "\n",
    "elif params_range == \"ood\":\n",
    "    min_max_step_vals = {\n",
    "        'LENGTHRATIO': (0.25, 1.26, 0.25),\n",
    "        'REPLACEONLYLEVENSHTEIN': (0.25, 1.26, 0.25),\n",
    "        'WORDRANKRATIO': (0.25, 1.26, 0.25),\n",
    "        'DEPENDENCYTREEDEPTHRATIO': (0.25, 1.26, 0.25),\n",
    "    }\n",
    "\n",
    "\n",
    "param_combinations = build_processor_combinations(preprocessors, min_max_step_vals, verbose=True)"
   ]
  },
  {
   "cell_type": "code",
   "execution_count": 19,
   "metadata": {},
   "outputs": [],
   "source": [
    "if not outfile.exists() or overwite:\n",
    "    print('Running Generations...')\n",
    "    \n",
    "    src_sentences = []\n",
    "    for line in read_lines(file):\n",
    "        for src_sent in construct_multiple_training_instances(line, param_combinations):\n",
    "            src_sentences.append(src_sent)\n",
    "\n",
    "    print(f'Constructed {len(src_sentences)} sentences with ACCESS/MUSS control tokens')\n",
    "    print(src_sentences[:5])\n",
    "    \n",
    "    if sample:\n",
    "        if isinstance(sample_size, float):\n",
    "            random.seed(SEED)\n",
    "            src_sentences = random.sample(src_sentences, int(len(src_sentences)*sample_size))\n",
    "        elif isinstance(sample_size, int):\n",
    "            random.seed(SEED)\n",
    "            src_sentences = random.sample(src_sentences, sample_size)    \n",
    "        \n",
    "        print(f'Sampled {len(src_sentences)} sentences with ACCESS/MUSS control tokens')\n",
    "        print(src_sentences[:5])\n",
    "        \n",
    "    with open(outfile, 'w', encoding='utf8') as outf:\n",
    "        for batch_inputs in tqdm(batch(src_sentences, batch_size), total=len(src_sentences)/batch_size):\n",
    "            batch_preds = generate(batch_inputs, model, tokenizer)    \n",
    "\n",
    "            for src, pred in zip(batch_inputs, batch_preds):\n",
    "\n",
    "                data = {\n",
    "                    'src': strip_params(src, preprocessors),\n",
    "                    'params': get_params_as_dict(src, preprocessors),\n",
    "                    'pred': pred.strip(),\n",
    "                    'attr': compute_features(src, pred, preprocessors, as_score=True),\n",
    "                }\n",
    "\n",
    "                outf.write(f'{json.dumps(data)}\\n')"
   ]
  },
  {
   "cell_type": "code",
   "execution_count": 20,
   "metadata": {},
   "outputs": [
    {
     "name": "stdout",
     "output_type": "stream",
     "text": [
      "Index(['src', 'pred', 'params.DEPENDENCYTREEDEPTHRATIO',\n",
      "       'params.WORDRANKRATIO', 'params.REPLACEONLYLEVENSHTEIN',\n",
      "       'params.LENGTHRATIO', 'attr.LengthRatio_score', 'attr.LENGTHRATIO',\n",
      "       'attr.ReplaceOnlyLevenshtein_score', 'attr.REPLACEONLYLEVENSHTEIN',\n",
      "       'attr.WordRankRatio_score', 'attr.WORDRANKRATIO',\n",
      "       'attr.DependencyTreeDepthRatio_score', 'attr.DEPENDENCYTREEDEPTHRATIO'],\n",
      "      dtype='object')\n"
     ]
    },
    {
     "data": {
      "text/html": [
       "<div>\n",
       "<style scoped>\n",
       "    .dataframe tbody tr th:only-of-type {\n",
       "        vertical-align: middle;\n",
       "    }\n",
       "\n",
       "    .dataframe tbody tr th {\n",
       "        vertical-align: top;\n",
       "    }\n",
       "\n",
       "    .dataframe thead th {\n",
       "        text-align: right;\n",
       "    }\n",
       "</style>\n",
       "<table border=\"1\" class=\"dataframe\">\n",
       "  <thead>\n",
       "    <tr style=\"text-align: right;\">\n",
       "      <th></th>\n",
       "      <th>src</th>\n",
       "      <th>pred</th>\n",
       "      <th>params.DEPENDENCYTREEDEPTHRATIO</th>\n",
       "      <th>params.WORDRANKRATIO</th>\n",
       "      <th>params.REPLACEONLYLEVENSHTEIN</th>\n",
       "      <th>params.LENGTHRATIO</th>\n",
       "      <th>attr.LENGTHRATIO</th>\n",
       "      <th>attr.REPLACEONLYLEVENSHTEIN</th>\n",
       "      <th>attr.WORDRANKRATIO</th>\n",
       "      <th>attr.DEPENDENCYTREEDEPTHRATIO</th>\n",
       "    </tr>\n",
       "  </thead>\n",
       "  <tbody>\n",
       "    <tr>\n",
       "      <th>0</th>\n",
       "      <td>Mifepristone is a synthetic steroid compound u...</td>\n",
       "      <td>Mifepristone is a synthetic steroid drug which...</td>\n",
       "      <td>0.50</td>\n",
       "      <td>0.75</td>\n",
       "      <td>0.55</td>\n",
       "      <td>0.90</td>\n",
       "      <td>0.45</td>\n",
       "      <td>0.70</td>\n",
       "      <td>1.0</td>\n",
       "      <td>1.00</td>\n",
       "    </tr>\n",
       "    <tr>\n",
       "      <th>1</th>\n",
       "      <td>The wave traveled across the Atlantic, and org...</td>\n",
       "      <td>The wave moved across the Atlantic, formed int...</td>\n",
       "      <td>0.70</td>\n",
       "      <td>0.80</td>\n",
       "      <td>0.75</td>\n",
       "      <td>0.80</td>\n",
       "      <td>0.50</td>\n",
       "      <td>0.95</td>\n",
       "      <td>1.0</td>\n",
       "      <td>0.70</td>\n",
       "    </tr>\n",
       "    <tr>\n",
       "      <th>2</th>\n",
       "      <td>Orton and his wife welcomed Alanna Marie Orton...</td>\n",
       "      <td>Orton and his wife welcomed their daughter, Al...</td>\n",
       "      <td>0.75</td>\n",
       "      <td>0.90</td>\n",
       "      <td>0.55</td>\n",
       "      <td>1.15</td>\n",
       "      <td>0.60</td>\n",
       "      <td>1.00</td>\n",
       "      <td>1.1</td>\n",
       "      <td>1.35</td>\n",
       "    </tr>\n",
       "    <tr>\n",
       "      <th>3</th>\n",
       "      <td>The body color varies from medium brown to gol...</td>\n",
       "      <td>The body color varies from medium brown to bei...</td>\n",
       "      <td>1.00</td>\n",
       "      <td>0.70</td>\n",
       "      <td>0.50</td>\n",
       "      <td>0.95</td>\n",
       "      <td>0.65</td>\n",
       "      <td>0.85</td>\n",
       "      <td>1.0</td>\n",
       "      <td>1.50</td>\n",
       "    </tr>\n",
       "    <tr>\n",
       "      <th>4</th>\n",
       "      <td>You may add a passage of up to five words as a...</td>\n",
       "      <td>You may add a passage of up to five words as a...</td>\n",
       "      <td>0.60</td>\n",
       "      <td>0.85</td>\n",
       "      <td>0.85</td>\n",
       "      <td>1.05</td>\n",
       "      <td>0.80</td>\n",
       "      <td>0.95</td>\n",
       "      <td>0.9</td>\n",
       "      <td>1.20</td>\n",
       "    </tr>\n",
       "  </tbody>\n",
       "</table>\n",
       "</div>"
      ],
      "text/plain": [
       "                                                 src  \\\n",
       "0  Mifepristone is a synthetic steroid compound u...   \n",
       "1  The wave traveled across the Atlantic, and org...   \n",
       "2  Orton and his wife welcomed Alanna Marie Orton...   \n",
       "3  The body color varies from medium brown to gol...   \n",
       "4  You may add a passage of up to five words as a...   \n",
       "\n",
       "                                                pred  \\\n",
       "0  Mifepristone is a synthetic steroid drug which...   \n",
       "1  The wave moved across the Atlantic, formed int...   \n",
       "2  Orton and his wife welcomed their daughter, Al...   \n",
       "3  The body color varies from medium brown to bei...   \n",
       "4  You may add a passage of up to five words as a...   \n",
       "\n",
       "   params.DEPENDENCYTREEDEPTHRATIO  params.WORDRANKRATIO  \\\n",
       "0                             0.50                  0.75   \n",
       "1                             0.70                  0.80   \n",
       "2                             0.75                  0.90   \n",
       "3                             1.00                  0.70   \n",
       "4                             0.60                  0.85   \n",
       "\n",
       "   params.REPLACEONLYLEVENSHTEIN  params.LENGTHRATIO  attr.LENGTHRATIO  \\\n",
       "0                           0.55                0.90              0.45   \n",
       "1                           0.75                0.80              0.50   \n",
       "2                           0.55                1.15              0.60   \n",
       "3                           0.50                0.95              0.65   \n",
       "4                           0.85                1.05              0.80   \n",
       "\n",
       "   attr.REPLACEONLYLEVENSHTEIN  attr.WORDRANKRATIO  \\\n",
       "0                         0.70                 1.0   \n",
       "1                         0.95                 1.0   \n",
       "2                         1.00                 1.1   \n",
       "3                         0.85                 1.0   \n",
       "4                         0.95                 0.9   \n",
       "\n",
       "   attr.DEPENDENCYTREEDEPTHRATIO  \n",
       "0                           1.00  \n",
       "1                           0.70  \n",
       "2                           1.35  \n",
       "3                           1.50  \n",
       "4                           1.20  "
      ]
     },
     "execution_count": 20,
     "metadata": {},
     "output_type": "execute_result"
    }
   ],
   "source": [
    "if outfile.exists():\n",
    "    data = []\n",
    "    with open(outfile, 'r', encoding='utf8') as f:\n",
    "        for line in f:\n",
    "            data.append(json.loads(line.strip()))\n",
    "    df = pd.json_normalize(data)\n",
    "\n",
    "print(df.columns)\n",
    "df = df.drop(columns=['attr.LengthRatio_score', 'attr.ReplaceOnlyLevenshtein_score', 'attr.WordRankRatio_score', 'attr.DependencyTreeDepthRatio_score'])\n",
    "df.head()"
   ]
  },
  {
   "cell_type": "code",
   "execution_count": 21,
   "metadata": {},
   "outputs": [
    {
     "data": {
      "image/png": "[encoded data removed]",
      "text/plain": [
       "<Figure size 864x720 with 2 Axes>"
      ]
     },
     "metadata": {
      "needs_background": "light"
     },
     "output_type": "display_data"
    }
   ],
   "source": [
    "# plt.figure(figsize=(10, 8))\n",
    "fig, axes = plt.subplots(1, 1, figsize=(12,10), sharey=True)\n",
    "# Store heatmap object in a variable to easily access it when you want to include more features (such as title).\n",
    "# Set the range of values to be displayed on the colormap from -1 to 1, and set the annotation to True to display the correlation values on the heatmap.\n",
    "\n",
    "corr = df.corr()\n",
    "heatmap = sns.heatmap(corr, \n",
    "        xticklabels=corr.columns,\n",
    "        yticklabels=corr.columns,\n",
    "        annot=True,\n",
    "        ax=axes)\n",
    "\n",
    "# Give a title to the heatmap. Pad defines the distance of the title from the top of the heatmap.\n",
    "# heatmap.set_title('Correlation Heatmap', fontdict={'fontsize':12}, pad=12)\n",
    "\n",
    "fig.suptitle(f'{params_range.upper()} control params vs. surface-level attributes on {dataset} ({sample_size} sampled)')\n",
    "fig.tight_layout()\n",
    "plt.savefig(f'../results/plots/surface_level_correlation_{dataset}_{sample_size}_{params_range}params.png', dpi=300)\n"
   ]
  },
  {
   "cell_type": "code",
   "execution_count": 22,
   "metadata": {},
   "outputs": [
    {
     "name": "stdout",
     "output_type": "stream",
     "text": [
      "                    params.LENGTHRATIO  attr.LENGTHRATIO\n",
      "params.LENGTHRATIO            1.000000          0.594134\n",
      "attr.LENGTHRATIO              0.594134          1.000000\n",
      "\n",
      "                               params.REPLACEONLYLEVENSHTEIN  \\\n",
      "params.REPLACEONLYLEVENSHTEIN                       1.000000   \n",
      "attr.REPLACEONLYLEVENSHTEIN                         0.301362   \n",
      "\n",
      "                               attr.REPLACEONLYLEVENSHTEIN  \n",
      "params.REPLACEONLYLEVENSHTEIN                     0.301362  \n",
      "attr.REPLACEONLYLEVENSHTEIN                       1.000000  \n",
      "\n",
      "                      params.WORDRANKRATIO  attr.WORDRANKRATIO\n",
      "params.WORDRANKRATIO               1.00000             0.25684\n",
      "attr.WORDRANKRATIO                 0.25684             1.00000\n",
      "\n",
      "                                 params.DEPENDENCYTREEDEPTHRATIO  \\\n",
      "params.DEPENDENCYTREEDEPTHRATIO                         1.000000   \n",
      "attr.DEPENDENCYTREEDEPTHRATIO                           0.279791   \n",
      "\n",
      "                                 attr.DEPENDENCYTREEDEPTHRATIO  \n",
      "params.DEPENDENCYTREEDEPTHRATIO                       0.279791  \n",
      "attr.DEPENDENCYTREEDEPTHRATIO                         1.000000  \n"
     ]
    }
   ],
   "source": [
    "print(df[['params.LENGTHRATIO', 'attr.LENGTHRATIO']].corr())\n",
    "print()\n",
    "print(df[['params.REPLACEONLYLEVENSHTEIN', 'attr.REPLACEONLYLEVENSHTEIN']].corr())\n",
    "print()\n",
    "print(df[['params.WORDRANKRATIO', 'attr.WORDRANKRATIO']].corr())\n",
    "print()\n",
    "print(df[['params.DEPENDENCYTREEDEPTHRATIO', 'attr.DEPENDENCYTREEDEPTHRATIO']].corr())"
   ]
  },
  {
   "cell_type": "code",
   "execution_count": null,
   "metadata": {},
   "outputs": [],
   "source": []
  },
  {
   "cell_type": "code",
   "execution_count": null,
   "metadata": {},
   "outputs": [],
   "source": []
  },
  {
   "cell_type": "code",
   "execution_count": null,
   "metadata": {},
   "outputs": [],
   "source": []
  },
  {
   "cell_type": "code",
   "execution_count": null,
   "metadata": {},
   "outputs": [],
   "source": []
  },
  {
   "cell_type": "code",
   "execution_count": null,
   "metadata": {},
   "outputs": [],
   "source": []
  },
  {
   "cell_type": "code",
   "execution_count": null,
   "metadata": {},
   "outputs": [],
   "source": []
  },
  {
   "cell_type": "code",
   "execution_count": null,
   "metadata": {},
   "outputs": [],
   "source": []
  },
  {
   "cell_type": "code",
   "execution_count": null,
   "metadata": {},
   "outputs": [],
   "source": []
  }
 ],
 "metadata": {
  "kernelspec": {
   "display_name": "ctrl_tokens",
   "language": "python",
   "name": "ctrl_tokens"
  },
  "language_info": {
   "codemirror_mode": {
    "name": "ipython",
    "version": 3
   },
   "file_extension": ".py",
   "mimetype": "text/x-python",
   "name": "python",
   "nbconvert_exporter": "python",
   "pygments_lexer": "ipython3",
   "version": "3.8.13"
  }
 },
 "nbformat": 4,
 "nbformat_minor": 5
}
