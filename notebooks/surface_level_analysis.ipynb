{
 "cells": [
  {
   "cell_type": "code",
   "execution_count": 1,
   "metadata": {},
   "outputs": [],
   "source": [
    "from transformers import BartForConditionalGeneration, AutoTokenizer, AutoModel, utils\n",
    "from nltk.metrics.distance import edit_distance\n",
    "from string import Template\n",
    "import numpy as np\n",
    "import math\n",
    "from itertools import combinations\n",
    "import torch\n",
    "import os\n",
    "from typing import List, Tuple\n",
    "import warnings\n",
    "import re\n",
    "from tqdm import tqdm\n",
    "import pandas as pd\n",
    "import matplotlib.pyplot as plt\n",
    "import seaborn as sns\n",
    "import json\n",
    "\n",
    "from muss.feature_extraction import (get_lexical_complexity_score, get_levenshtein_similarity,\n",
    "                                       get_dependency_tree_depth)\n",
    "\n",
    "from utils import *"
   ]
  },
  {
   "cell_type": "code",
   "execution_count": 2,
   "metadata": {},
   "outputs": [
    {
     "name": "stdout",
     "output_type": "stream",
     "text": [
      "0\n",
      "<class 'torch.cuda.device'>\n",
      "1\n",
      "device: cuda\n"
     ]
    }
   ],
   "source": [
    "GPU = \"1\"\n",
    "os.environ[\"CUDA_VISIBLE_DEVICES\"] = GPU\n",
    "\n",
    "if torch.cuda.is_available():    \n",
    "    print(torch.cuda.current_device())\n",
    "    print(torch.cuda.device)\n",
    "    torch.cuda.device = GPU\n",
    "    print(torch.cuda.device)\n",
    "    device = 'cuda'\n",
    "else:\n",
    "    device = 'cpu'\n",
    "print(f'device: {device}')"
   ]
  },
  {
   "cell_type": "code",
   "execution_count": 3,
   "metadata": {},
   "outputs": [],
   "source": [
    "# Initialize tokenizer and model. Be sure to set output_attentions=True.\n",
    "# Load BART fine-tuned for summarization on CNN/Daily Mail dataset\n",
    "model_path = \"/srv/scratch6/kew/ats/muss/resources/models/muss_en_mined_hf\"\n",
    "tokenizer = AutoTokenizer.from_pretrained(model_path)\n",
    "model = BartForConditionalGeneration.from_pretrained(model_path, output_attentions=True)\n",
    "model = model.eval()\n",
    "model = model.to(device)"
   ]
  },
  {
   "cell_type": "code",
   "execution_count": 16,
   "metadata": {},
   "outputs": [],
   "source": [
    "src_sentence = \"This is extremely hard to comprehend.\"\n",
    "\n",
    "def run_inference(src_text, batch_size=32, step_size=0.25, verbose=False):\n",
    "    \n",
    "    inputs = []\n",
    "    outputs = []\n",
    "    \n",
    "    # possible combinations = num_trials^4\n",
    "    for a in np.arange(0.0, 1.5, step_size):\n",
    "        a = round(a, 2) # target values = 0.0, 0.05, 0.1, 0.15, ...\n",
    "        for b in np.arange(0.0, 1.5, step_size):\n",
    "            b = round(b, 2) # target values = 0.0, 0.05, 0.1, 0.15, ...\n",
    "            for c in np.arange(0.0, 1.5, step_size):\n",
    "                c = round(c, 2) # target values = 0.0, 0.05, 0.1, 0.15, ...\n",
    "                for d in np.arange(0.0, 1.5, step_size):\n",
    "                    d = round(d, 2) # target values = 0.0, 0.05, 0.1, 0.15, ...\n",
    "                    \n",
    "                    params = {\n",
    "                        'len_ratio': a,\n",
    "                        'lev_sim': b,\n",
    "                        'word_rank': c,\n",
    "                        'tree_depth': d,\n",
    "                    }\n",
    "                    \n",
    "                    inputs.append(construct_input(src_text, params))\n",
    "\n",
    "    if verbose:\n",
    "        print(f'Number of possible inputs: {len(inputs)}')\n",
    "\n",
    "    \n",
    "    for batch_inputs in tqdm(batch(inputs, batch_size), total=len(inputs)/batch_size):\n",
    "        batch_predictions = generate(batch_inputs)\n",
    "        # print(batch_inputs[:3])\n",
    "        \n",
    "        for src, pred in zip(batch_inputs, batch_predictions):\n",
    "            \n",
    "            src_text = strip_params(src)\n",
    "            pred = pred.strip()\n",
    "            \n",
    "            data = {\n",
    "                'src': src_text,\n",
    "                'pred': pred,\n",
    "                'attr': {\n",
    "                    'len_ratio': len(pred) / len(src_text),\n",
    "                    'lev_sim': get_levenshtein_similarity(src_text, pred),\n",
    "                    'word_rank': get_lexical_complexity_score(pred) / get_lexical_complexity_score(src_text),\n",
    "                    'tree_depth': get_dependency_tree_depth(pred) / get_dependency_tree_depth(src_text),\n",
    "                },\n",
    "                'params': parse_params(src),\n",
    "            }\n",
    "            outputs.append(data)\n",
    "        \n",
    "    return outputs\n",
    "    "
   ]
  },
  {
   "cell_type": "code",
   "execution_count": 27,
   "metadata": {},
   "outputs": [
    {
     "name": "stdout",
     "output_type": "stream",
     "text": [
      "Number of possible inputs: 1296\n"
     ]
    },
    {
     "name": "stderr",
     "output_type": "stream",
     "text": [
      "41it [01:29,  2.19s/it]                          \n"
     ]
    },
    {
     "name": "stdout",
     "output_type": "stream",
     "text": [
      "Number of possible inputs: 1296\n"
     ]
    },
    {
     "name": "stderr",
     "output_type": "stream",
     "text": [
      "41it [01:38,  2.40s/it]                          \n"
     ]
    },
    {
     "name": "stdout",
     "output_type": "stream",
     "text": [
      "Number of possible inputs: 1296\n"
     ]
    },
    {
     "name": "stderr",
     "output_type": "stream",
     "text": [
      "41it [02:14,  3.29s/it]                          \n"
     ]
    },
    {
     "name": "stdout",
     "output_type": "stream",
     "text": [
      "Number of possible inputs: 1296\n"
     ]
    },
    {
     "name": "stderr",
     "output_type": "stream",
     "text": [
      "41it [02:04,  3.03s/it]                          \n"
     ]
    },
    {
     "name": "stdout",
     "output_type": "stream",
     "text": [
      "Number of possible inputs: 1296\n"
     ]
    },
    {
     "name": "stderr",
     "output_type": "stream",
     "text": [
      "41it [02:15,  3.30s/it]                          \n"
     ]
    },
    {
     "name": "stdout",
     "output_type": "stream",
     "text": [
      "Number of possible inputs: 1296\n"
     ]
    },
    {
     "name": "stderr",
     "output_type": "stream",
     "text": [
      "41it [02:13,  3.26s/it]                          \n"
     ]
    }
   ],
   "source": [
    "data = []\n",
    "\n",
    "inputs = [\n",
    "    'This is extremely hard to comprehend.',\n",
    "    'The mouse was eaten by the cat.',\n",
    "    'Saint Petersburg, formerly known as Petrograd and later Leningrad, is the second-largest city in Russia.',\n",
    "    'Effective altruism advocates using evidence to determine the most effective ways to benefit others.',\n",
    "    'Memorial West\\'s class is one of several programs offered through hospitals to help children stay healthy through exercise and proper eating.',\n",
    "    'The idea is to encourage healthy eating and exercise as early as possible to prevent health problems later on.',\n",
    "]\n",
    "for src_text in inputs:\n",
    "    data += run_inference(src_text, verbose=True)\n"
   ]
  },
  {
   "cell_type": "code",
   "execution_count": 28,
   "metadata": {},
   "outputs": [
    {
     "data": {
      "text/plain": [
       "7776"
      ]
     },
     "execution_count": 28,
     "metadata": {},
     "output_type": "execute_result"
    }
   ],
   "source": [
    "len(data)"
   ]
  },
  {
   "cell_type": "code",
   "execution_count": 29,
   "metadata": {},
   "outputs": [],
   "source": [
    "# df = pd.DataFrame(data, orient=)\n",
    "df = pd.json_normalize(data)"
   ]
  },
  {
   "cell_type": "code",
   "execution_count": 31,
   "metadata": {},
   "outputs": [],
   "source": [
    "with open('../results/access_params_and_attrs.json', 'w') as f:\n",
    "    json.dump(data, f)"
   ]
  },
  {
   "cell_type": "code",
   "execution_count": 32,
   "metadata": {},
   "outputs": [
    {
     "data": {
      "text/html": [
       "<div>\n",
       "<style scoped>\n",
       "    .dataframe tbody tr th:only-of-type {\n",
       "        vertical-align: middle;\n",
       "    }\n",
       "\n",
       "    .dataframe tbody tr th {\n",
       "        vertical-align: top;\n",
       "    }\n",
       "\n",
       "    .dataframe thead th {\n",
       "        text-align: right;\n",
       "    }\n",
       "</style>\n",
       "<table border=\"1\" class=\"dataframe\">\n",
       "  <thead>\n",
       "    <tr style=\"text-align: right;\">\n",
       "      <th></th>\n",
       "      <th>src</th>\n",
       "      <th>pred</th>\n",
       "      <th>attr.len_ratio</th>\n",
       "      <th>attr.lev_sim</th>\n",
       "      <th>attr.word_rank</th>\n",
       "      <th>attr.tree_depth</th>\n",
       "      <th>params.len_ratio</th>\n",
       "      <th>params.lev_sim</th>\n",
       "      <th>params.word_rank</th>\n",
       "      <th>params.tree_depth</th>\n",
       "    </tr>\n",
       "  </thead>\n",
       "  <tbody>\n",
       "    <tr>\n",
       "      <th>0</th>\n",
       "      <td>This is extremely hard to comprehend.</td>\n",
       "      <td>This is very hard to comprehend extremely.</td>\n",
       "      <td>1.135135</td>\n",
       "      <td>0.784810</td>\n",
       "      <td>1.000000</td>\n",
       "      <td>0.666667</td>\n",
       "      <td>0.00</td>\n",
       "      <td>0.00</td>\n",
       "      <td>0.00</td>\n",
       "      <td>0.00</td>\n",
       "    </tr>\n",
       "    <tr>\n",
       "      <th>1</th>\n",
       "      <td>This is extremely hard to comprehend.</td>\n",
       "      <td>This is very hard to comprehend extremely.</td>\n",
       "      <td>1.135135</td>\n",
       "      <td>0.784810</td>\n",
       "      <td>1.000000</td>\n",
       "      <td>0.666667</td>\n",
       "      <td>0.00</td>\n",
       "      <td>0.00</td>\n",
       "      <td>0.00</td>\n",
       "      <td>0.25</td>\n",
       "    </tr>\n",
       "    <tr>\n",
       "      <th>2</th>\n",
       "      <td>This is extremely hard to comprehend.</td>\n",
       "      <td>This is very hard to comprehend extremely.</td>\n",
       "      <td>1.135135</td>\n",
       "      <td>0.784810</td>\n",
       "      <td>1.000000</td>\n",
       "      <td>0.666667</td>\n",
       "      <td>0.00</td>\n",
       "      <td>0.00</td>\n",
       "      <td>0.00</td>\n",
       "      <td>0.50</td>\n",
       "    </tr>\n",
       "    <tr>\n",
       "      <th>3</th>\n",
       "      <td>This is extremely hard to comprehend.</td>\n",
       "      <td>This is very hard to comprehend extremely.</td>\n",
       "      <td>1.135135</td>\n",
       "      <td>0.784810</td>\n",
       "      <td>1.000000</td>\n",
       "      <td>0.666667</td>\n",
       "      <td>0.00</td>\n",
       "      <td>0.00</td>\n",
       "      <td>0.00</td>\n",
       "      <td>0.75</td>\n",
       "    </tr>\n",
       "    <tr>\n",
       "      <th>4</th>\n",
       "      <td>This is extremely hard to comprehend.</td>\n",
       "      <td>This is very hard to comprehend extremely.</td>\n",
       "      <td>1.135135</td>\n",
       "      <td>0.784810</td>\n",
       "      <td>1.000000</td>\n",
       "      <td>0.666667</td>\n",
       "      <td>0.00</td>\n",
       "      <td>0.00</td>\n",
       "      <td>0.00</td>\n",
       "      <td>1.00</td>\n",
       "    </tr>\n",
       "    <tr>\n",
       "      <th>...</th>\n",
       "      <td>...</td>\n",
       "      <td>...</td>\n",
       "      <td>...</td>\n",
       "      <td>...</td>\n",
       "      <td>...</td>\n",
       "      <td>...</td>\n",
       "      <td>...</td>\n",
       "      <td>...</td>\n",
       "      <td>...</td>\n",
       "      <td>...</td>\n",
       "    </tr>\n",
       "    <tr>\n",
       "      <th>7771</th>\n",
       "      <td>The idea is to encourage healthy eating and ex...</td>\n",
       "      <td>The idea is that as early as possible, people ...</td>\n",
       "      <td>0.818182</td>\n",
       "      <td>0.560000</td>\n",
       "      <td>1.032470</td>\n",
       "      <td>0.666667</td>\n",
       "      <td>1.25</td>\n",
       "      <td>1.25</td>\n",
       "      <td>1.25</td>\n",
       "      <td>0.25</td>\n",
       "    </tr>\n",
       "    <tr>\n",
       "      <th>7772</th>\n",
       "      <td>The idea is to encourage healthy eating and ex...</td>\n",
       "      <td>The idea is that as early as possible, people ...</td>\n",
       "      <td>0.818182</td>\n",
       "      <td>0.560000</td>\n",
       "      <td>1.032470</td>\n",
       "      <td>0.666667</td>\n",
       "      <td>1.25</td>\n",
       "      <td>1.25</td>\n",
       "      <td>1.25</td>\n",
       "      <td>0.50</td>\n",
       "    </tr>\n",
       "    <tr>\n",
       "      <th>7773</th>\n",
       "      <td>The idea is to encourage healthy eating and ex...</td>\n",
       "      <td>The idea is that as early as possible, people ...</td>\n",
       "      <td>0.818182</td>\n",
       "      <td>0.560000</td>\n",
       "      <td>1.032470</td>\n",
       "      <td>0.666667</td>\n",
       "      <td>1.25</td>\n",
       "      <td>1.25</td>\n",
       "      <td>1.25</td>\n",
       "      <td>0.75</td>\n",
       "    </tr>\n",
       "    <tr>\n",
       "      <th>7774</th>\n",
       "      <td>The idea is to encourage healthy eating and ex...</td>\n",
       "      <td>The idea is that as early as possible, people ...</td>\n",
       "      <td>0.818182</td>\n",
       "      <td>0.560000</td>\n",
       "      <td>1.032470</td>\n",
       "      <td>0.666667</td>\n",
       "      <td>1.25</td>\n",
       "      <td>1.25</td>\n",
       "      <td>1.25</td>\n",
       "      <td>1.00</td>\n",
       "    </tr>\n",
       "    <tr>\n",
       "      <th>7775</th>\n",
       "      <td>The idea is to encourage healthy eating and ex...</td>\n",
       "      <td>The idea is that healthy eating and exercising...</td>\n",
       "      <td>0.872727</td>\n",
       "      <td>0.679612</td>\n",
       "      <td>1.059735</td>\n",
       "      <td>0.666667</td>\n",
       "      <td>1.25</td>\n",
       "      <td>1.25</td>\n",
       "      <td>1.25</td>\n",
       "      <td>1.25</td>\n",
       "    </tr>\n",
       "  </tbody>\n",
       "</table>\n",
       "<p>7776 rows × 10 columns</p>\n",
       "</div>"
      ],
      "text/plain": [
       "                                                    src  \\\n",
       "0                 This is extremely hard to comprehend.   \n",
       "1                 This is extremely hard to comprehend.   \n",
       "2                 This is extremely hard to comprehend.   \n",
       "3                 This is extremely hard to comprehend.   \n",
       "4                 This is extremely hard to comprehend.   \n",
       "...                                                 ...   \n",
       "7771  The idea is to encourage healthy eating and ex...   \n",
       "7772  The idea is to encourage healthy eating and ex...   \n",
       "7773  The idea is to encourage healthy eating and ex...   \n",
       "7774  The idea is to encourage healthy eating and ex...   \n",
       "7775  The idea is to encourage healthy eating and ex...   \n",
       "\n",
       "                                                   pred  attr.len_ratio  \\\n",
       "0            This is very hard to comprehend extremely.        1.135135   \n",
       "1            This is very hard to comprehend extremely.        1.135135   \n",
       "2            This is very hard to comprehend extremely.        1.135135   \n",
       "3            This is very hard to comprehend extremely.        1.135135   \n",
       "4            This is very hard to comprehend extremely.        1.135135   \n",
       "...                                                 ...             ...   \n",
       "7771  The idea is that as early as possible, people ...        0.818182   \n",
       "7772  The idea is that as early as possible, people ...        0.818182   \n",
       "7773  The idea is that as early as possible, people ...        0.818182   \n",
       "7774  The idea is that as early as possible, people ...        0.818182   \n",
       "7775  The idea is that healthy eating and exercising...        0.872727   \n",
       "\n",
       "      attr.lev_sim  attr.word_rank  attr.tree_depth  params.len_ratio  \\\n",
       "0         0.784810        1.000000         0.666667              0.00   \n",
       "1         0.784810        1.000000         0.666667              0.00   \n",
       "2         0.784810        1.000000         0.666667              0.00   \n",
       "3         0.784810        1.000000         0.666667              0.00   \n",
       "4         0.784810        1.000000         0.666667              0.00   \n",
       "...            ...             ...              ...               ...   \n",
       "7771      0.560000        1.032470         0.666667              1.25   \n",
       "7772      0.560000        1.032470         0.666667              1.25   \n",
       "7773      0.560000        1.032470         0.666667              1.25   \n",
       "7774      0.560000        1.032470         0.666667              1.25   \n",
       "7775      0.679612        1.059735         0.666667              1.25   \n",
       "\n",
       "      params.lev_sim  params.word_rank  params.tree_depth  \n",
       "0               0.00              0.00               0.00  \n",
       "1               0.00              0.00               0.25  \n",
       "2               0.00              0.00               0.50  \n",
       "3               0.00              0.00               0.75  \n",
       "4               0.00              0.00               1.00  \n",
       "...              ...               ...                ...  \n",
       "7771            1.25              1.25               0.25  \n",
       "7772            1.25              1.25               0.50  \n",
       "7773            1.25              1.25               0.75  \n",
       "7774            1.25              1.25               1.00  \n",
       "7775            1.25              1.25               1.25  \n",
       "\n",
       "[7776 rows x 10 columns]"
      ]
     },
     "execution_count": 32,
     "metadata": {},
     "output_type": "execute_result"
    }
   ],
   "source": [
    "df"
   ]
  },
  {
   "cell_type": "code",
   "execution_count": 33,
   "metadata": {},
   "outputs": [
    {
     "data": {
      "text/plain": [
       "<AxesSubplot:>"
      ]
     },
     "execution_count": 33,
     "metadata": {},
     "output_type": "execute_result"
    },
    {
     "data": {
      "image/png": "[encoded data removed]",
      "text/plain": [
       "<Figure size 432x288 with 2 Axes>"
      ]
     },
     "metadata": {
      "needs_background": "light"
     },
     "output_type": "display_data"
    }
   ],
   "source": [
    "# print(df[['attr.len_ratio', 'params.len_ratio']].corr())\n",
    "# print()\n",
    "# print(df[['attr.lev_sim', 'params.lev_sim']].corr())\n",
    "# print()\n",
    "# print(df[['attr.word_rank', 'params.word_rank']].corr())\n",
    "# print()\n",
    "# print(df[['attr.tree_depth', 'params.tree_depth']].corr())\n",
    "corr = df.corr()\n",
    "sns.heatmap(corr, \n",
    "        xticklabels=corr.columns,\n",
    "        yticklabels=corr.columns)"
   ]
  },
  {
   "cell_type": "code",
   "execution_count": null,
   "metadata": {},
   "outputs": [],
   "source": []
  }
 ],
 "metadata": {
  "kernelspec": {
   "display_name": "ctrl_tokens",
   "language": "python",
   "name": "ctrl_tokens"
  },
  "language_info": {
   "codemirror_mode": {
    "name": "ipython",
    "version": 3
   },
   "file_extension": ".py",
   "mimetype": "text/x-python",
   "name": "python",
   "nbconvert_exporter": "python",
   "pygments_lexer": "ipython3",
   "version": "3.8.13"
  }
 },
 "nbformat": 4,
 "nbformat_minor": 5
}
