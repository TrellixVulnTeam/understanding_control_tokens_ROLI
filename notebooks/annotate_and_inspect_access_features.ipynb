{
 "cells": [
  {
   "cell_type": "markdown",
   "metadata": {},
   "source": [
    "Warning: takes more than 6 hours long time to annotate \n",
    "    `muss_mined_paraphrases/en_mined_paraphrases/train.complex`"
   ]
  },
  {
   "cell_type": "code",
   "execution_count": 1,
   "metadata": {},
   "outputs": [],
   "source": [
    "import sys\n",
    "sys.path.append(\"../\") # go to parent dir\n",
    "\n",
    "from multiprocessing import Pool\n",
    "import os\n",
    "import time\n",
    "\n",
    "import pandas as pd\n",
    "import json\n",
    "import numpy as np\n",
    "import matplotlib.pyplot as plt\n",
    "import seaborn as sns\n",
    "from tqdm.notebook import tqdm\n",
    "\n",
    "from muss_utils import (\n",
    "    compute_features, \n",
    "    fetch_preprocessor_used_in_muss_model_training, \n",
    ")\n",
    "\n",
    "from utils import read_lines"
   ]
  },
  {
   "cell_type": "code",
   "execution_count": 2,
   "metadata": {},
   "outputs": [
    {
     "name": "stdout",
     "output_type": "stream",
     "text": [
      "32\n"
     ]
    }
   ],
   "source": [
    "n_jobs = os.cpu_count()\n",
    "print(n_jobs)"
   ]
  },
  {
   "cell_type": "code",
   "execution_count": 3,
   "metadata": {},
   "outputs": [
    {
     "name": "stdout",
     "output_type": "stream",
     "text": [
      "1194945 1194945\n"
     ]
    }
   ],
   "source": [
    "split = 'train'\n",
    "overwrite = True\n",
    "\n",
    "srcs = read_lines(f'../resources/data/en/muss_mined_paraphrases/en_mined_paraphrases/{split}.complex')\n",
    "tgts = read_lines(f'../resources/data/en/muss_mined_paraphrases/en_mined_paraphrases/{split}.simple')\n",
    "\n",
    "print(len(srcs), len(tgts))\n",
    "assert len(srcs) == len(tgts)\n",
    "\n",
    "anno_file = f'../resources/data/en/muss_mined_paraphrases/en_mined_paraphrases/analysis/{split}.tsv'"
   ]
  },
  {
   "cell_type": "code",
   "execution_count": null,
   "metadata": {},
   "outputs": [
    {
     "name": "stdout",
     "output_type": "stream",
     "text": [
      "Loaded preprocessors: [LengthRatioPreprocessor(target_ratio=0.8, use_short_name=False), ReplaceOnlyLevenshteinPreprocessor(bucket_size=0.05, noise_std=0, target_ratio=0.8, use_short_name=False), WordRankRatioPreprocessor(language='en', target_ratio=0.8, use_short_name=False), DependencyTreeDepthRatioPreprocessor(language='en', target_ratio=0.8, use_short_name=False)]\n",
      "running 32 jobs...\n"
     ]
    }
   ],
   "source": [
    "preprocessors = fetch_preprocessor_used_in_muss_model_training()\n",
    "\n",
    "def compute_features_para(src, tgt, preprocessors=preprocessors):\n",
    "    return compute_features(src, tgt, preprocessors)\n",
    "\n",
    "if overwrite:\n",
    "    print(f'running {n_jobs} jobs...')\n",
    "    t0 = time.time()\n",
    "    with Pool(processes=n_jobs) as pool:\n",
    "        result = pool.starmap(compute_features_para, zip(srcs, tgts), chunksize=1000)\n",
    "    t1 = time.time()\n",
    "    print(f'time taken: {t1-t0:.2f} seconds')\n",
    "    print(f'writing to {anno_file}...')\n",
    "    with open(anno_file, 'w', encoding='utf8') as f:\n",
    "        for item in result:\n",
    "            f.write(f'{json.dumps(item, ensure_ascii=False)}\\n')\n",
    "    print(f'done!')"
   ]
  },
  {
   "cell_type": "code",
   "execution_count": null,
   "metadata": {},
   "outputs": [],
   "source": []
  },
  {
   "cell_type": "code",
   "execution_count": null,
   "metadata": {},
   "outputs": [],
   "source": [
    "df = pd.read_json(anno_file, lines=True)\n",
    "df"
   ]
  },
  {
   "cell_type": "code",
   "execution_count": null,
   "metadata": {},
   "outputs": [],
   "source": [
    "fig, axes = plt.subplots(2, 2, figsize=(16,14), sharey=True)\n",
    "\n",
    "bins = np.arange(0.0, 2.01, 0.05)\n",
    "print(len(bins), bins)\n",
    "\n",
    "# sns hist\n",
    "sns.histplot(df, x='LENGTHRATIO', kde=True, stat='density', bins=bins, binwidth=0.05, ax=axes[0][0], legend=True)\n",
    "sns.histplot(df, x='WORDRANKRATIO', kde=True, stat='density', bins=bins, binwidth=0.05, ax=axes[0][1], legend=True)\n",
    "sns.histplot(df, x='REPLACEONLYLEVENSHTEIN', kde=True, stat='density', bins=bins, binwidth=0.05, ax=axes[1][0], legend=True)\n",
    "sns.histplot(df, x='DEPENDENCYTREEDEPTHRATIO', kde=True, stat='density', bins=bins, binwidth=0.05, ax=axes[1][1], legend=True)\n",
    "\n",
    "for ax_i in axes:\n",
    "    for ax_j in ax_i:\n",
    "        ax_j.set_xlim(min(bins), max(bins))\n",
    "        ax_j.set_xticks(bins)\n",
    "        ax_j.set_xticklabels(list(map(lambda x: f'{x:.2f}', bins)), rotation=90, ha='right', rotation_mode='anchor')\n",
    "\n",
    "fig.suptitle(f'ACCESS Features on en web-mined paraphrases from MUSS')\n",
    "plt.tight_layout()\n",
    "plt.savefig(f'../results/plots/access_features_on_en_muss_mined_{split}_hist.png', dpi='figure')"
   ]
  },
  {
   "cell_type": "code",
   "execution_count": null,
   "metadata": {},
   "outputs": [],
   "source": [
    "# fig, axes = plt.subplots(2, 2, figsize=(16,14), sharey=True)\n",
    "# bins = np.arange(0.0, 2.01, 0.05)\n",
    "# print(len(bins), bins)\n",
    "\n",
    "# # lr_binned = pd.cut(df['length_ratio'], bins=bins, include_lowest=True).apply(lambda x: x.right)\n",
    "# # word_binned = pd.cut(df['lex_complexity'], bins=bins, include_lowest=True).apply(lambda x: x.right)\n",
    "# # lev_binned = pd.cut(df['levenshtein'], bins=bins, include_lowest=True).apply(lambda x: x.right)\n",
    "# # dtd_binned = pd.cut(df['dep_tree_depth'], bins=bins, include_lowest=True).apply(lambda x: x.right)\n",
    "\n",
    "# # bar\n",
    "# df['LENGTHRATIO'].value_counts(sort=False).plot(kind='bar', rot=90, ax=axes[0][0], legend=True)\n",
    "# df['WORDRANKRATIO'].value_counts(sort=False).plot(kind='bar', rot=90, ax=axes[0][1], legend=True)\n",
    "# df['REPLACEONLYLEVENSHTEIN'].value_counts(sort=False).plot(kind='bar', rot=90, ax=axes[1][0], legend=True)\n",
    "# df['DEPENDENCYTREEDEPTHRATIO'].value_counts(sort=False).plot(kind='bar', rot=90, ax=axes[1][1], legend=True)\n",
    "\n",
    "# # kde\n",
    "# # lr_binned.value_counts(sort=False).plot(kind='kde', rot=90, ax=axes[0][0], legend=True)\n",
    "# # word_binned.value_counts(sort=False).plot(kind='kde', rot=90, ax=axes[0][1], legend=True)\n",
    "# # lev_binned.value_counts(sort=False).plot(kind='kde', rot=90, ax=axes[1][0], legend=True)\n",
    "# # dtd_binned.value_counts(sort=False).plot(kind='kde', rot=90, ax=axes[1][1], legend=True)\n",
    "\n",
    "# # hist\n",
    "# # lr_binned.hist(bins=len(bins), ax=axes[0][0], legend=True)\n",
    "# # word_binned.hist(bins=len(bins), ax=axes[0][1], legend=True)\n",
    "# # lev_binned.hist(bins=len(bins), ax=axes[1][0], legend=True)\n",
    "# # dtd_binned.hist(bins=len(bins), ax=axes[1][1], legend=True)\n",
    "\n",
    "# # hist plt\n",
    "# # axes[0][0].hist(lr_binned, color = 'blue', edgecolor = 'black', bins = len(bins))\n",
    "# # axes[0][1].hist(word_binned, color = 'blue', edgecolor = 'black', bins = len(bins))\n",
    "# # axes[1][0].hist(lev_binned, color = 'blue', edgecolor = 'black', bins = len(bins))\n",
    "# # axes[1][1].hist(dtd_binned, color = 'blue', edgecolor = 'black', bins = len(bins))\n",
    "\n",
    "# # ax = out.value_counts(sort=False).plot.bar(rot=90, color=\"b\", figsize=(10,6))\n",
    "# # ax.set_xticklabels([c[1:-1].replace(\",\",\" to\") for c in out.cat.categories])\n",
    "\n",
    "# fig.suptitle(f'ACCESS Features on en web-mined paraphrases from MUSS')\n",
    "# plt.tight_layout()\n",
    "# plt.savefig(f'../results/plots/access_features_on_en_muss_mined_{split}_bar.png', dpi='figure')"
   ]
  },
  {
   "cell_type": "code",
   "execution_count": null,
   "metadata": {},
   "outputs": [],
   "source": []
  },
  {
   "cell_type": "code",
   "execution_count": null,
   "metadata": {},
   "outputs": [],
   "source": []
  },
  {
   "cell_type": "code",
   "execution_count": null,
   "metadata": {},
   "outputs": [],
   "source": []
  }
 ],
 "metadata": {
  "kernelspec": {
   "display_name": "ctrl_tokens",
   "language": "python",
   "name": "ctrl_tokens"
  },
  "language_info": {
   "codemirror_mode": {
    "name": "ipython",
    "version": 3
   },
   "file_extension": ".py",
   "mimetype": "text/x-python",
   "name": "python",
   "nbconvert_exporter": "python",
   "pygments_lexer": "ipython3",
   "version": "3.8.13"
  }
 },
 "nbformat": 4,
 "nbformat_minor": 4
}
