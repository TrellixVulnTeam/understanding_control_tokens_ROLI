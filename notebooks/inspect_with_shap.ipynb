{
 "cells": [
  {
   "cell_type": "code",
   "execution_count": 1,
   "id": "a99fe6f5-b2d3-477b-b887-f44f84945664",
   "metadata": {},
   "outputs": [],
   "source": [
    "import os\n",
    "\n",
    "import torch\n",
    "from transformers import AutoModelForSeq2SeqLM, AutoTokenizer, BartForConditionalGeneration, BartTokenizer\n",
    "import shap"
   ]
  },
  {
   "cell_type": "code",
   "execution_count": 2,
   "id": "77c88223-9b17-48c8-9dd1-a991c0af1b3a",
   "metadata": {},
   "outputs": [
    {
     "name": "stdout",
     "output_type": "stream",
     "text": [
      "0\n",
      "<class 'torch.cuda.device'>\n",
      "1\n",
      "device: cuda\n"
     ]
    }
   ],
   "source": [
    "GPU = \"1\"\n",
    "os.environ[\"CUDA_VISIBLE_DEVICES\"] = GPU\n",
    "\n",
    "if torch.cuda.is_available():    \n",
    "    print(torch.cuda.current_device())\n",
    "    print(torch.cuda.device)\n",
    "    torch.cuda.device = GPU\n",
    "    print(torch.cuda.device)\n",
    "    device = 'cuda'\n",
    "else:\n",
    "    device = 'cpu'\n",
    "print(f'device: {device}')"
   ]
  },
  {
   "cell_type": "code",
   "execution_count": 3,
   "id": "9042d6ee-b68c-4eef-a25e-eaf953014512",
   "metadata": {},
   "outputs": [],
   "source": [
    "model_path = \"/srv/scratch6/kew/ats/muss/resources/models/muss_en_mined_hf\"\n",
    "# tokenizer = AutoTokenizer.from_pretrained(model_path)\n",
    "# model = BartForConditionalGeneration.from_pretrained(model_path, output_attentions=True)\n",
    "tokenizer = AutoTokenizer.from_pretrained(model_path)\n",
    "model = AutoModelForSeq2SeqLM.from_pretrained(model_path)\n",
    "\n",
    "model = model.eval()\n",
    "model = model.to(device)"
   ]
  },
  {
   "cell_type": "code",
   "execution_count": 4,
   "id": "a3d83d57-db25-417c-82f4-746095c07ed1",
   "metadata": {},
   "outputs": [
    {
     "name": "stdout",
     "output_type": "stream",
     "text": [
      "This is very hard to understand..\n",
      "This is very hard to understand..\n",
      "This is very hard to understand..\n",
      "This is very hard to understand..\n",
      "This is very hard to understand..\n",
      "This is very hard to understand..\n"
     ]
    }
   ],
   "source": [
    "# modifying the value of a single special token\n",
    "sentences = [\n",
    "    \"<DEPENDENCYTREEDEPTHRATIO_0.0> <WORDRANKRATIO_0.75> <REPLACEONLYLEVENSHTEIN_0.65> <LENGTHRATIO_0.75> This is extremely hard to comprehend.\",\n",
    "    \"<DEPENDENCYTREEDEPTHRATIO_0.2> <WORDRANKRATIO_0.75> <REPLACEONLYLEVENSHTEIN_0.65> <LENGTHRATIO_0.75> This is extremely hard to comprehend.\",\n",
    "    \"<DEPENDENCYTREEDEPTHRATIO_0.4> <WORDRANKRATIO_0.75> <REPLACEONLYLEVENSHTEIN_0.65> <LENGTHRATIO_0.75> This is extremely hard to comprehend.\",\n",
    "    \"<DEPENDENCYTREEDEPTHRATIO_0.6> <WORDRANKRATIO_0.75> <REPLACEONLYLEVENSHTEIN_0.65> <LENGTHRATIO_0.75> This is extremely hard to comprehend.\",\n",
    "    \"<DEPENDENCYTREEDEPTHRATIO_0.8> <WORDRANKRATIO_0.75> <REPLACEONLYLEVENSHTEIN_0.65> <LENGTHRATIO_0.75> This is extremely hard to comprehend.\",\n",
    "    \"<DEPENDENCYTREEDEPTHRATIO_1.0> <WORDRANKRATIO_0.75> <REPLACEONLYLEVENSHTEIN_0.65> <LENGTHRATIO_0.75> This is extremely hard to comprehend.\",\n",
    "]\n",
    "batch = tokenizer(sentences, padding=True, return_tensors=\"pt\")\n",
    "\n",
    "generated_ids = model.generate(batch[\"input_ids\"].to(model.device))\n",
    "generated_sents = tokenizer.batch_decode(generated_ids, skip_special_tokens=True)\n",
    "for s in generated_sents:\n",
    "    print(s)"
   ]
  },
  {
   "cell_type": "code",
   "execution_count": 5,
   "id": "c1fbf068-5032-43dd-8e70-923e4830a9d8",
   "metadata": {},
   "outputs": [],
   "source": [
    "# shap: https://shap.readthedocs.io/en/latest/example_notebooks/text_examples/translation/Machine%20Translation%20Explanations.html\n",
    "explainer = shap.Explainer(model, tokenizer)"
   ]
  },
  {
   "cell_type": "code",
   "execution_count": 8,
   "id": "9dbf5d7f-2cde-4ba6-9d58-0b2fa41b8ef9",
   "metadata": {},
   "outputs": [
    {
     "data": {
      "application/vnd.jupyter.widget-view+json": {
       "model_id": "87ea77730e92406194e72c9596ff8225",
       "version_major": 2,
       "version_minor": 0
      },
      "text/plain": [
       "  0%|          | 0/248 [00:00<?, ?it/s]"
      ]
     },
     "metadata": {},
     "output_type": "display_data"
    }
   ],
   "source": [
    "shap_values = explainer(sentences[:1])"
   ]
  },
  {
   "cell_type": "code",
   "execution_count": null,
   "id": "33ff355a-3164-4f78-8a8f-058e7c527b05",
   "metadata": {},
   "outputs": [],
   "source": [
    "shap.initjs()\n",
    "shap.plots.text(shap_values)"
   ]
  },
  {
   "cell_type": "code",
   "execution_count": null,
   "id": "6533c97e-3a26-4f1c-83bf-bade1ad2eb13",
   "metadata": {},
   "outputs": [],
   "source": []
  }
 ],
 "metadata": {
  "kernelspec": {
   "display_name": "muss_analysis",
   "language": "python",
   "name": "muss_analysis"
  },
  "language_info": {
   "codemirror_mode": {
    "name": "ipython",
    "version": 3
   },
   "file_extension": ".py",
   "mimetype": "text/x-python",
   "name": "python",
   "nbconvert_exporter": "python",
   "pygments_lexer": "ipython3",
   "version": "3.8.13"
  }
 },
 "nbformat": 4,
 "nbformat_minor": 5
}
